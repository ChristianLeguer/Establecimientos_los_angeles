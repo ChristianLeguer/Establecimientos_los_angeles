{
 "cells": [
  {
   "cell_type": "markdown",
   "metadata": {},
   "source": [
    "¡ Hola Christian! Como te va?\n",
    "\n",
    "\n",
    "\n",
    " Mi nombre es Facundo Lozano! Y tengo el agrado de ser tu revisor hoy :)\n",
    "\n",
    "\n",
    "\n",
    "Como siempre, a continuación un poco sobre la modalidad de revisión que usaremos:\n",
    "\n",
    "\n",
    "\n",
    " Cuando enccuentro un error por primera vez, simplemente lo señalaré, te dejaré encontrarlo y arreglarlo tú cuenta. Además, a lo largo del texto iré haciendo algunas observaciones sobre mejora en tu código y también haré comentarios sobre tus percepciones sobre el tema. Pero si aún no puedes realizar esta tarea, te daré una pista más precisa en la próxima iteración y también algunos ejemplos prácticos. Estaré abierto a comentarios y discusiones sobre el tema.\n",
    "\n",
    "\n",
    "\n",
    " Encontrará mis comentarios a continuación: **no los mueva, modifique ni elimine**.\n",
    "\n",
    "\n",
    "\n",
    " Puedes encontrar mis comentarios en cuadros verdes, amarillos o rojos como este:\n",
    "\n",
    "\n",
    "\n",
    " <div class=\"alert alert-block alert-success\">\n",
    "\n",
    " <b>Comentario del revisor.</b> <a class=\"tocSkip\"></a>\n",
    "\n",
    "\n",
    "\n",
    " Exito. Todo se ha hecho de forma exitosa.\n",
    "\n",
    " </div>\n",
    "\n",
    "\n",
    "\n",
    " <div class=\"alert alert-block alert-warning\">\n",
    "\n",
    " <b>Comentario del revisor.</b> <a class=\"tocSkip\"></a>\n",
    "\n",
    "\n",
    "\n",
    " Observación. Algunas recomendaciones.\n",
    "\n",
    " </div>\n",
    "\n",
    "\n",
    "\n",
    " <div class=\"alert alert-block alert-danger\">\n",
    "\n",
    "\n",
    "\n",
    " <b>Comentario del revisor.</b> <a class=\"tocSkip\"></a>\n",
    "\n",
    "\n",
    "\n",
    " Necesita arreglos. Este apartado necesita algunas correcciones. El trabajo no puede ser aceptado con comentarios rojos.\n",
    "\n",
    " </div>\n",
    "\n",
    "\n",
    "\n",
    " Puedes responder utilizando esto:\n",
    "\n",
    "\n",
    "\n",
    " <div class=\"alert alert-block alert-info\">\n",
    "\n",
    " <b>Respuesta de estudiante.</b> <a class=\"tocSkip\"></a>\n",
    "\n",
    " </div>"
   ]
  },
  {
   "cell_type": "markdown",
   "metadata": {},
   "source": [
    "# Proyecto Sprint 10"
   ]
  },
  {
   "cell_type": "markdown",
   "metadata": {},
   "source": [
    "El siguiente proyecto busca preparar un estudio de mercado sobre restaurantes en Los Ángeles que ayuden a obtener información que sea de utilidad para un restaurante atendido por robots en la misma ciudad. La intención es realizar una presentación con el objetivo de atraer inversionistas para el negocio.\n",
    "\n",
    "El Data set en el que se basará la investigación para obtener los datos y realizar las visualizaciones pertinentes contiene la siguiente información:\n",
    "   - object_name — nombre del establecimiento\n",
    "   - chain — establecimiento que pertenece a una cadena (TRUE/FALSE)\n",
    "   - object_type — tipo de establecimiento\n",
    "   - address — dirección\n",
    "   - number — número de asientos"
   ]
  },
  {
   "cell_type": "markdown",
   "metadata": {},
   "source": [
    "<div class=\"alert alert-block alert-success\n",
    "            \">\n",
    "<b>Review General. (Iteración 3) </b> <a class=\"tocSkip\"></a>\n",
    "\n",
    "Ahora esi excelente Christian hemos cumplido con todo lo necesario para aprobar el proyecto, felicitaciones! Saludos y éxitos!"
   ]
  },
  {
   "cell_type": "markdown",
   "metadata": {},
   "source": [
    "<div class=\"alert alert-block alert-warning\n",
    "            \">\n",
    "<b>Review General. (Iteración 2) </b> <a class=\"tocSkip\"></a>\n",
    "\n",
    "Un gran avance Christian! Has realizado importantes avances en el trabajo y corregido el link de acceso a la presentación, que es excelente. Sola resta revisar la consigna del histograma para poder dar este proyecto como aprobado. Te dejé un nuevo comentario con más detalles para que puedas buscar la forma de resolverlo.\n",
    "    \n",
    "Espero nuevamente a nuestra próxima iteración que estoy seguro que sera nuestra ultima :)\n",
    "    \n",
    "Exitos y saludos!"
   ]
  },
  {
   "cell_type": "markdown",
   "metadata": {},
   "source": [
    "<div class=\"alert alert-block alert-success\">\n",
    "<b>Review General. (Iteración 1) </b> <a class=\"tocSkip\"></a>\n",
    "\n",
    "Christian, siempre me tomo este tiempo al inicio del proyecto para comentar mis apreciaciones generales de esta primera iteración de la entrega.\n",
    "\n",
    "Siempre me gusta comenzar dando la bienvenida al mundo de los datos a los estudiantes, te deseo lo mejor y espero que consigas lograr tus objetivos. Personalmente siempre me gusta brindar el siguiente consejo, \"Está bien equivocarse, es normal y es lo mejor que te puede pasar. Aprendemos de los errores y eso te hará mejor programando ya que podrás descubrir cosas a medida que avances y son estas cosas las que te darán esa experiencia para ser mejor como Data Analyst\"\n",
    "    \n",
    "Ahora si yendo a esta notebook. Quiero felicitarte y agradecerte por este proyecto Christian, lo has resuelto de una forma espectacular, se ha notado a lo largo de todo el proceso tu gran manejo sobre python y las librerías que debían utilizarse. A la vez quiero destacar tu compromiso porque no solo has resuelto sino que lo has resuelto con creces. Por otro lado, simplementenos hay unos detalles a modificar y faltò ademàs el link a la presentación. Devuelvo el proyecto para que lo agreguemos :)\n",
    "\n",
    "Éxitos y saludos Christian!"
   ]
  },
  {
   "cell_type": "markdown",
   "metadata": {},
   "source": [
    "## Importación de librerias y datos."
   ]
  },
  {
   "cell_type": "code",
   "execution_count": 2,
   "metadata": {},
   "outputs": [],
   "source": [
    "import pandas as pd\n",
    "import matplotlib.pyplot as plt\n",
    "import plotly.express as px\n",
    "import seaborn as sns\n",
    "import re\n",
    "import plotly.graph_objects as go"
   ]
  },
  {
   "cell_type": "code",
   "execution_count": 3,
   "metadata": {},
   "outputs": [
    {
     "data": {
      "text/html": [
       "<div>\n",
       "<style scoped>\n",
       "    .dataframe tbody tr th:only-of-type {\n",
       "        vertical-align: middle;\n",
       "    }\n",
       "\n",
       "    .dataframe tbody tr th {\n",
       "        vertical-align: top;\n",
       "    }\n",
       "\n",
       "    .dataframe thead th {\n",
       "        text-align: right;\n",
       "    }\n",
       "</style>\n",
       "<table border=\"1\" class=\"dataframe\">\n",
       "  <thead>\n",
       "    <tr style=\"text-align: right;\">\n",
       "      <th></th>\n",
       "      <th>id</th>\n",
       "      <th>object_name</th>\n",
       "      <th>address</th>\n",
       "      <th>chain</th>\n",
       "      <th>object_type</th>\n",
       "      <th>number</th>\n",
       "    </tr>\n",
       "  </thead>\n",
       "  <tbody>\n",
       "    <tr>\n",
       "      <th>0</th>\n",
       "      <td>11786</td>\n",
       "      <td>HABITAT COFFEE SHOP</td>\n",
       "      <td>3708 N EAGLE ROCK BLVD</td>\n",
       "      <td>False</td>\n",
       "      <td>Cafe</td>\n",
       "      <td>26</td>\n",
       "    </tr>\n",
       "    <tr>\n",
       "      <th>1</th>\n",
       "      <td>11787</td>\n",
       "      <td>REILLY'S</td>\n",
       "      <td>100 WORLD WAY 120</td>\n",
       "      <td>False</td>\n",
       "      <td>Restaurant</td>\n",
       "      <td>9</td>\n",
       "    </tr>\n",
       "    <tr>\n",
       "      <th>2</th>\n",
       "      <td>11788</td>\n",
       "      <td>STREET CHURROS</td>\n",
       "      <td>6801 HOLLYWOOD BLVD 253</td>\n",
       "      <td>False</td>\n",
       "      <td>Fast Food</td>\n",
       "      <td>20</td>\n",
       "    </tr>\n",
       "  </tbody>\n",
       "</table>\n",
       "</div>"
      ],
      "text/plain": [
       "      id          object_name                  address  chain object_type  \\\n",
       "0  11786  HABITAT COFFEE SHOP   3708 N EAGLE ROCK BLVD  False        Cafe   \n",
       "1  11787             REILLY'S        100 WORLD WAY 120  False  Restaurant   \n",
       "2  11788       STREET CHURROS  6801 HOLLYWOOD BLVD 253  False   Fast Food   \n",
       "\n",
       "   number  \n",
       "0      26  \n",
       "1       9  \n",
       "2      20  "
      ]
     },
     "metadata": {},
     "output_type": "display_data"
    }
   ],
   "source": [
    "rest_data = pd.read_csv('/datasets/rest_data_us_upd.csv')\n",
    "\n",
    "display(rest_data.head(3))"
   ]
  },
  {
   "cell_type": "markdown",
   "metadata": {},
   "source": [
    "## Análisis exploratorio de datos."
   ]
  },
  {
   "cell_type": "code",
   "execution_count": 4,
   "metadata": {},
   "outputs": [
    {
     "name": "stdout",
     "output_type": "stream",
     "text": [
      "Forma de la base rest_data\n"
     ]
    },
    {
     "data": {
      "text/plain": [
       "(9651, 6)"
      ]
     },
     "metadata": {},
     "output_type": "display_data"
    },
    {
     "name": "stdout",
     "output_type": "stream",
     "text": [
      "Información general de la base rest_data\n",
      "<class 'pandas.core.frame.DataFrame'>\n",
      "RangeIndex: 9651 entries, 0 to 9650\n",
      "Data columns (total 6 columns):\n",
      " #   Column       Non-Null Count  Dtype \n",
      "---  ------       --------------  ----- \n",
      " 0   id           9651 non-null   int64 \n",
      " 1   object_name  9651 non-null   object\n",
      " 2   address      9651 non-null   object\n",
      " 3   chain        9648 non-null   object\n",
      " 4   object_type  9651 non-null   object\n",
      " 5   number       9651 non-null   int64 \n",
      "dtypes: int64(2), object(4)\n",
      "memory usage: 452.5+ KB\n"
     ]
    },
    {
     "data": {
      "text/plain": [
       "None"
      ]
     },
     "metadata": {},
     "output_type": "display_data"
    },
    {
     "name": "stdout",
     "output_type": "stream",
     "text": [
      "Primeras 5 filas de la base rest_data\n"
     ]
    },
    {
     "data": {
      "text/html": [
       "<div>\n",
       "<style scoped>\n",
       "    .dataframe tbody tr th:only-of-type {\n",
       "        vertical-align: middle;\n",
       "    }\n",
       "\n",
       "    .dataframe tbody tr th {\n",
       "        vertical-align: top;\n",
       "    }\n",
       "\n",
       "    .dataframe thead th {\n",
       "        text-align: right;\n",
       "    }\n",
       "</style>\n",
       "<table border=\"1\" class=\"dataframe\">\n",
       "  <thead>\n",
       "    <tr style=\"text-align: right;\">\n",
       "      <th></th>\n",
       "      <th>id</th>\n",
       "      <th>object_name</th>\n",
       "      <th>address</th>\n",
       "      <th>chain</th>\n",
       "      <th>object_type</th>\n",
       "      <th>number</th>\n",
       "    </tr>\n",
       "  </thead>\n",
       "  <tbody>\n",
       "    <tr>\n",
       "      <th>0</th>\n",
       "      <td>11786</td>\n",
       "      <td>HABITAT COFFEE SHOP</td>\n",
       "      <td>3708 N EAGLE ROCK BLVD</td>\n",
       "      <td>False</td>\n",
       "      <td>Cafe</td>\n",
       "      <td>26</td>\n",
       "    </tr>\n",
       "    <tr>\n",
       "      <th>1</th>\n",
       "      <td>11787</td>\n",
       "      <td>REILLY'S</td>\n",
       "      <td>100 WORLD WAY 120</td>\n",
       "      <td>False</td>\n",
       "      <td>Restaurant</td>\n",
       "      <td>9</td>\n",
       "    </tr>\n",
       "    <tr>\n",
       "      <th>2</th>\n",
       "      <td>11788</td>\n",
       "      <td>STREET CHURROS</td>\n",
       "      <td>6801 HOLLYWOOD BLVD 253</td>\n",
       "      <td>False</td>\n",
       "      <td>Fast Food</td>\n",
       "      <td>20</td>\n",
       "    </tr>\n",
       "    <tr>\n",
       "      <th>3</th>\n",
       "      <td>11789</td>\n",
       "      <td>TRINITI ECHO PARK</td>\n",
       "      <td>1814 W SUNSET BLVD</td>\n",
       "      <td>False</td>\n",
       "      <td>Restaurant</td>\n",
       "      <td>22</td>\n",
       "    </tr>\n",
       "    <tr>\n",
       "      <th>4</th>\n",
       "      <td>11790</td>\n",
       "      <td>POLLEN</td>\n",
       "      <td>2100 ECHO PARK AVE</td>\n",
       "      <td>False</td>\n",
       "      <td>Restaurant</td>\n",
       "      <td>20</td>\n",
       "    </tr>\n",
       "  </tbody>\n",
       "</table>\n",
       "</div>"
      ],
      "text/plain": [
       "      id          object_name                  address  chain object_type  \\\n",
       "0  11786  HABITAT COFFEE SHOP   3708 N EAGLE ROCK BLVD  False        Cafe   \n",
       "1  11787             REILLY'S        100 WORLD WAY 120  False  Restaurant   \n",
       "2  11788       STREET CHURROS  6801 HOLLYWOOD BLVD 253  False   Fast Food   \n",
       "3  11789    TRINITI ECHO PARK       1814 W SUNSET BLVD  False  Restaurant   \n",
       "4  11790               POLLEN       2100 ECHO PARK AVE  False  Restaurant   \n",
       "\n",
       "   number  \n",
       "0      26  \n",
       "1       9  \n",
       "2      20  \n",
       "3      22  \n",
       "4      20  "
      ]
     },
     "metadata": {},
     "output_type": "display_data"
    },
    {
     "name": "stdout",
     "output_type": "stream",
     "text": [
      "Últimas 5 filas de la base rest_data\n"
     ]
    },
    {
     "data": {
      "text/html": [
       "<div>\n",
       "<style scoped>\n",
       "    .dataframe tbody tr th:only-of-type {\n",
       "        vertical-align: middle;\n",
       "    }\n",
       "\n",
       "    .dataframe tbody tr th {\n",
       "        vertical-align: top;\n",
       "    }\n",
       "\n",
       "    .dataframe thead th {\n",
       "        text-align: right;\n",
       "    }\n",
       "</style>\n",
       "<table border=\"1\" class=\"dataframe\">\n",
       "  <thead>\n",
       "    <tr style=\"text-align: right;\">\n",
       "      <th></th>\n",
       "      <th>id</th>\n",
       "      <th>object_name</th>\n",
       "      <th>address</th>\n",
       "      <th>chain</th>\n",
       "      <th>object_type</th>\n",
       "      <th>number</th>\n",
       "    </tr>\n",
       "  </thead>\n",
       "  <tbody>\n",
       "    <tr>\n",
       "      <th>9646</th>\n",
       "      <td>21432</td>\n",
       "      <td>HALL OF JUSTICE</td>\n",
       "      <td>217 W TEMPLE AVE</td>\n",
       "      <td>False</td>\n",
       "      <td>Restaurant</td>\n",
       "      <td>122</td>\n",
       "    </tr>\n",
       "    <tr>\n",
       "      <th>9647</th>\n",
       "      <td>21433</td>\n",
       "      <td>FIN-MELROSE</td>\n",
       "      <td>5750 MELROSE AVE</td>\n",
       "      <td>False</td>\n",
       "      <td>Restaurant</td>\n",
       "      <td>93</td>\n",
       "    </tr>\n",
       "    <tr>\n",
       "      <th>9648</th>\n",
       "      <td>21434</td>\n",
       "      <td>JUICY WINGZ</td>\n",
       "      <td>6741 HOLLYWOOD BLVD</td>\n",
       "      <td>True</td>\n",
       "      <td>Fast Food</td>\n",
       "      <td>15</td>\n",
       "    </tr>\n",
       "    <tr>\n",
       "      <th>9649</th>\n",
       "      <td>21435</td>\n",
       "      <td>MEDIDATE COFFEE</td>\n",
       "      <td>548 S SPRING ST STE 100</td>\n",
       "      <td>False</td>\n",
       "      <td>Cafe</td>\n",
       "      <td>6</td>\n",
       "    </tr>\n",
       "    <tr>\n",
       "      <th>9650</th>\n",
       "      <td>21436</td>\n",
       "      <td>CAFE SPROUTS</td>\n",
       "      <td>1300 S SAN PEDRO ST STE 111</td>\n",
       "      <td>True</td>\n",
       "      <td>Restaurant</td>\n",
       "      <td>19</td>\n",
       "    </tr>\n",
       "  </tbody>\n",
       "</table>\n",
       "</div>"
      ],
      "text/plain": [
       "         id      object_name                      address  chain object_type  \\\n",
       "9646  21432  HALL OF JUSTICE             217 W TEMPLE AVE  False  Restaurant   \n",
       "9647  21433      FIN-MELROSE             5750 MELROSE AVE  False  Restaurant   \n",
       "9648  21434      JUICY WINGZ          6741 HOLLYWOOD BLVD   True   Fast Food   \n",
       "9649  21435  MEDIDATE COFFEE      548 S SPRING ST STE 100  False        Cafe   \n",
       "9650  21436     CAFE SPROUTS  1300 S SAN PEDRO ST STE 111   True  Restaurant   \n",
       "\n",
       "      number  \n",
       "9646     122  \n",
       "9647      93  \n",
       "9648      15  \n",
       "9649       6  \n",
       "9650      19  "
      ]
     },
     "metadata": {},
     "output_type": "display_data"
    },
    {
     "name": "stdout",
     "output_type": "stream",
     "text": [
      "Descripción estadística de la base rest_data\n"
     ]
    },
    {
     "data": {
      "text/html": [
       "<div>\n",
       "<style scoped>\n",
       "    .dataframe tbody tr th:only-of-type {\n",
       "        vertical-align: middle;\n",
       "    }\n",
       "\n",
       "    .dataframe tbody tr th {\n",
       "        vertical-align: top;\n",
       "    }\n",
       "\n",
       "    .dataframe thead th {\n",
       "        text-align: right;\n",
       "    }\n",
       "</style>\n",
       "<table border=\"1\" class=\"dataframe\">\n",
       "  <thead>\n",
       "    <tr style=\"text-align: right;\">\n",
       "      <th></th>\n",
       "      <th>id</th>\n",
       "      <th>number</th>\n",
       "    </tr>\n",
       "  </thead>\n",
       "  <tbody>\n",
       "    <tr>\n",
       "      <th>count</th>\n",
       "      <td>9651.000000</td>\n",
       "      <td>9651.000000</td>\n",
       "    </tr>\n",
       "    <tr>\n",
       "      <th>mean</th>\n",
       "      <td>16611.000000</td>\n",
       "      <td>43.695161</td>\n",
       "    </tr>\n",
       "    <tr>\n",
       "      <th>std</th>\n",
       "      <td>2786.148058</td>\n",
       "      <td>47.622874</td>\n",
       "    </tr>\n",
       "    <tr>\n",
       "      <th>min</th>\n",
       "      <td>11786.000000</td>\n",
       "      <td>1.000000</td>\n",
       "    </tr>\n",
       "    <tr>\n",
       "      <th>25%</th>\n",
       "      <td>14198.500000</td>\n",
       "      <td>14.000000</td>\n",
       "    </tr>\n",
       "    <tr>\n",
       "      <th>50%</th>\n",
       "      <td>16611.000000</td>\n",
       "      <td>27.000000</td>\n",
       "    </tr>\n",
       "    <tr>\n",
       "      <th>75%</th>\n",
       "      <td>19023.500000</td>\n",
       "      <td>46.000000</td>\n",
       "    </tr>\n",
       "    <tr>\n",
       "      <th>max</th>\n",
       "      <td>21436.000000</td>\n",
       "      <td>229.000000</td>\n",
       "    </tr>\n",
       "  </tbody>\n",
       "</table>\n",
       "</div>"
      ],
      "text/plain": [
       "                 id       number\n",
       "count   9651.000000  9651.000000\n",
       "mean   16611.000000    43.695161\n",
       "std     2786.148058    47.622874\n",
       "min    11786.000000     1.000000\n",
       "25%    14198.500000    14.000000\n",
       "50%    16611.000000    27.000000\n",
       "75%    19023.500000    46.000000\n",
       "max    21436.000000   229.000000"
      ]
     },
     "metadata": {},
     "output_type": "display_data"
    },
    {
     "name": "stdout",
     "output_type": "stream",
     "text": [
      "Filas duplicadas de la base rest_data\n"
     ]
    },
    {
     "data": {
      "text/plain": [
       "'La base tiene: 0 filas duplicadas'"
      ]
     },
     "metadata": {},
     "output_type": "display_data"
    }
   ],
   "source": [
    "print('Forma de la base rest_data')\n",
    "display(rest_data.shape)\n",
    "print('Información general de la base rest_data')\n",
    "display(rest_data.info())\n",
    "print('Primeras 5 filas de la base rest_data')\n",
    "display(rest_data.head())\n",
    "print('Últimas 5 filas de la base rest_data')\n",
    "display(rest_data.tail())\n",
    "print('Descripción estadística de la base rest_data')\n",
    "display(rest_data.describe())\n",
    "print('Filas duplicadas de la base rest_data')\n",
    "display(f'La base tiene: {rest_data.duplicated().sum()} filas duplicadas')"
   ]
  },
  {
   "cell_type": "markdown",
   "metadata": {},
   "source": [
    "### Conclusiones del análisis exploratorio de datos."
   ]
  },
  {
   "cell_type": "markdown",
   "metadata": {},
   "source": [
    "La base de datos cuenta con 9651 filas y 6 columnas, en su mayoría podemos contemplarlos como valores categóricos. Solo tiene 3 valores nulos en la columna de chain los cuales se analizarán y se verá su tratamiento en la siguiente parte del proceso."
   ]
  },
  {
   "cell_type": "markdown",
   "metadata": {},
   "source": [
    "### Tratamiento de datos."
   ]
  },
  {
   "cell_type": "code",
   "execution_count": 5,
   "metadata": {},
   "outputs": [
    {
     "data": {
      "text/html": [
       "<div>\n",
       "<style scoped>\n",
       "    .dataframe tbody tr th:only-of-type {\n",
       "        vertical-align: middle;\n",
       "    }\n",
       "\n",
       "    .dataframe tbody tr th {\n",
       "        vertical-align: top;\n",
       "    }\n",
       "\n",
       "    .dataframe thead th {\n",
       "        text-align: right;\n",
       "    }\n",
       "</style>\n",
       "<table border=\"1\" class=\"dataframe\">\n",
       "  <thead>\n",
       "    <tr style=\"text-align: right;\">\n",
       "      <th></th>\n",
       "      <th>id</th>\n",
       "      <th>object_name</th>\n",
       "      <th>address</th>\n",
       "      <th>chain</th>\n",
       "      <th>object_type</th>\n",
       "      <th>number</th>\n",
       "    </tr>\n",
       "  </thead>\n",
       "  <tbody>\n",
       "    <tr>\n",
       "      <th>7408</th>\n",
       "      <td>19194</td>\n",
       "      <td>TAQUERIA LOS 3 CARNALES</td>\n",
       "      <td>5000 E WHITTIER BLVD</td>\n",
       "      <td>NaN</td>\n",
       "      <td>Restaurant</td>\n",
       "      <td>14</td>\n",
       "    </tr>\n",
       "    <tr>\n",
       "      <th>7523</th>\n",
       "      <td>19309</td>\n",
       "      <td>JAMMIN JIMMY'S PIZZA</td>\n",
       "      <td>1641 FIRESTONE BLVD</td>\n",
       "      <td>NaN</td>\n",
       "      <td>Pizza</td>\n",
       "      <td>1</td>\n",
       "    </tr>\n",
       "    <tr>\n",
       "      <th>8648</th>\n",
       "      <td>20434</td>\n",
       "      <td>THE LEXINGTON THEATER</td>\n",
       "      <td>129 E 3RD ST</td>\n",
       "      <td>NaN</td>\n",
       "      <td>Restaurant</td>\n",
       "      <td>35</td>\n",
       "    </tr>\n",
       "  </tbody>\n",
       "</table>\n",
       "</div>"
      ],
      "text/plain": [
       "         id              object_name               address chain object_type  \\\n",
       "7408  19194  TAQUERIA LOS 3 CARNALES  5000 E WHITTIER BLVD   NaN  Restaurant   \n",
       "7523  19309     JAMMIN JIMMY'S PIZZA   1641 FIRESTONE BLVD   NaN       Pizza   \n",
       "8648  20434    THE LEXINGTON THEATER          129 E 3RD ST   NaN  Restaurant   \n",
       "\n",
       "      number  \n",
       "7408      14  \n",
       "7523       1  \n",
       "8648      35  "
      ]
     },
     "metadata": {},
     "output_type": "display_data"
    },
    {
     "data": {
      "text/html": [
       "<div>\n",
       "<style scoped>\n",
       "    .dataframe tbody tr th:only-of-type {\n",
       "        vertical-align: middle;\n",
       "    }\n",
       "\n",
       "    .dataframe tbody tr th {\n",
       "        vertical-align: top;\n",
       "    }\n",
       "\n",
       "    .dataframe thead th {\n",
       "        text-align: right;\n",
       "    }\n",
       "</style>\n",
       "<table border=\"1\" class=\"dataframe\">\n",
       "  <thead>\n",
       "    <tr style=\"text-align: right;\">\n",
       "      <th></th>\n",
       "      <th>id</th>\n",
       "      <th>object_name</th>\n",
       "      <th>address</th>\n",
       "      <th>chain</th>\n",
       "      <th>object_type</th>\n",
       "      <th>number</th>\n",
       "    </tr>\n",
       "  </thead>\n",
       "  <tbody>\n",
       "    <tr>\n",
       "      <th>0</th>\n",
       "      <td>11786</td>\n",
       "      <td>HABITAT COFFEE SHOP</td>\n",
       "      <td>3708 N EAGLE ROCK BLVD</td>\n",
       "      <td>False</td>\n",
       "      <td>Cafe</td>\n",
       "      <td>26</td>\n",
       "    </tr>\n",
       "    <tr>\n",
       "      <th>1</th>\n",
       "      <td>11787</td>\n",
       "      <td>REILLY'S</td>\n",
       "      <td>100 WORLD WAY 120</td>\n",
       "      <td>False</td>\n",
       "      <td>Restaurant</td>\n",
       "      <td>9</td>\n",
       "    </tr>\n",
       "    <tr>\n",
       "      <th>2</th>\n",
       "      <td>11788</td>\n",
       "      <td>STREET CHURROS</td>\n",
       "      <td>6801 HOLLYWOOD BLVD 253</td>\n",
       "      <td>False</td>\n",
       "      <td>Fast Food</td>\n",
       "      <td>20</td>\n",
       "    </tr>\n",
       "    <tr>\n",
       "      <th>3</th>\n",
       "      <td>11789</td>\n",
       "      <td>TRINITI ECHO PARK</td>\n",
       "      <td>1814 W SUNSET BLVD</td>\n",
       "      <td>False</td>\n",
       "      <td>Restaurant</td>\n",
       "      <td>22</td>\n",
       "    </tr>\n",
       "    <tr>\n",
       "      <th>4</th>\n",
       "      <td>11790</td>\n",
       "      <td>POLLEN</td>\n",
       "      <td>2100 ECHO PARK AVE</td>\n",
       "      <td>False</td>\n",
       "      <td>Restaurant</td>\n",
       "      <td>20</td>\n",
       "    </tr>\n",
       "  </tbody>\n",
       "</table>\n",
       "</div>"
      ],
      "text/plain": [
       "      id          object_name                  address  chain object_type  \\\n",
       "0  11786  HABITAT COFFEE SHOP   3708 N EAGLE ROCK BLVD  False        Cafe   \n",
       "1  11787             REILLY'S        100 WORLD WAY 120  False  Restaurant   \n",
       "2  11788       STREET CHURROS  6801 HOLLYWOOD BLVD 253  False   Fast Food   \n",
       "3  11789    TRINITI ECHO PARK       1814 W SUNSET BLVD  False  Restaurant   \n",
       "4  11790               POLLEN       2100 ECHO PARK AVE  False  Restaurant   \n",
       "\n",
       "   number  \n",
       "0      26  \n",
       "1       9  \n",
       "2      20  \n",
       "3      22  \n",
       "4      20  "
      ]
     },
     "metadata": {},
     "output_type": "display_data"
    },
    {
     "name": "stdout",
     "output_type": "stream",
     "text": [
      "0.0003109452736318408\n"
     ]
    }
   ],
   "source": [
    "rest_data_isnull = rest_data[rest_data['chain'].isnull()]\n",
    "display(rest_data_isnull.head())\n",
    "\n",
    "rest_data_notnull = rest_data[~rest_data['chain'].isnull()]\n",
    "display(rest_data_notnull.head())\n",
    "\n",
    "len_isnull = len(rest_data_isnull)\n",
    "len_notnull = len(rest_data_notnull)\n",
    "\n",
    "null_rate = len_isnull / len_notnull\n",
    "\n",
    "print(null_rate)"
   ]
  },
  {
   "cell_type": "code",
   "execution_count": 6,
   "metadata": {},
   "outputs": [
    {
     "name": "stdout",
     "output_type": "stream",
     "text": [
      "<class 'pandas.core.frame.DataFrame'>\n",
      "Int64Index: 9648 entries, 0 to 9650\n",
      "Data columns (total 6 columns):\n",
      " #   Column       Non-Null Count  Dtype \n",
      "---  ------       --------------  ----- \n",
      " 0   id           9648 non-null   int64 \n",
      " 1   object_name  9648 non-null   object\n",
      " 2   address      9648 non-null   object\n",
      " 3   chain        9648 non-null   object\n",
      " 4   object_type  9648 non-null   object\n",
      " 5   number       9648 non-null   int64 \n",
      "dtypes: int64(2), object(4)\n",
      "memory usage: 527.6+ KB\n"
     ]
    }
   ],
   "source": [
    "rest_data = rest_data.dropna()\n",
    "\n",
    "rest_data.info()"
   ]
  },
  {
   "cell_type": "markdown",
   "metadata": {},
   "source": [
    "Los valores nulos fueron elimindados ya que representaban una cantidad muy poco representativa para que afecten en el resultado final."
   ]
  },
  {
   "cell_type": "markdown",
   "metadata": {},
   "source": [
    "<div class=\"alert alert-block alert-success\">\n",
    "\n",
    "<b>Comentario del revisor. (Iteración 1)</b> <a class=\"tocSkip\"></a>\n",
    "\n",
    "Christian. Bien realizada la importaciòn de la base de datos. Y aquì un buen anàlisis para identificar duplicdos y valores ausentes. Bien hecho!"
   ]
  },
  {
   "cell_type": "markdown",
   "metadata": {},
   "source": [
    "## Análisis y visualizaciones de datos."
   ]
  },
  {
   "cell_type": "code",
   "execution_count": 7,
   "metadata": {},
   "outputs": [
    {
     "data": {
      "text/html": [
       "<div>\n",
       "<style scoped>\n",
       "    .dataframe tbody tr th:only-of-type {\n",
       "        vertical-align: middle;\n",
       "    }\n",
       "\n",
       "    .dataframe tbody tr th {\n",
       "        vertical-align: top;\n",
       "    }\n",
       "\n",
       "    .dataframe thead th {\n",
       "        text-align: right;\n",
       "    }\n",
       "</style>\n",
       "<table border=\"1\" class=\"dataframe\">\n",
       "  <thead>\n",
       "    <tr style=\"text-align: right;\">\n",
       "      <th></th>\n",
       "      <th>id</th>\n",
       "      <th>object_name</th>\n",
       "      <th>address</th>\n",
       "      <th>chain</th>\n",
       "      <th>object_type</th>\n",
       "      <th>number</th>\n",
       "    </tr>\n",
       "  </thead>\n",
       "  <tbody>\n",
       "    <tr>\n",
       "      <th>0</th>\n",
       "      <td>11786</td>\n",
       "      <td>HABITAT COFFEE SHOP</td>\n",
       "      <td>3708 N EAGLE ROCK BLVD</td>\n",
       "      <td>False</td>\n",
       "      <td>Cafe</td>\n",
       "      <td>26</td>\n",
       "    </tr>\n",
       "    <tr>\n",
       "      <th>1</th>\n",
       "      <td>11787</td>\n",
       "      <td>REILLY'S</td>\n",
       "      <td>100 WORLD WAY 120</td>\n",
       "      <td>False</td>\n",
       "      <td>Restaurant</td>\n",
       "      <td>9</td>\n",
       "    </tr>\n",
       "  </tbody>\n",
       "</table>\n",
       "</div>"
      ],
      "text/plain": [
       "      id          object_name                 address  chain object_type  \\\n",
       "0  11786  HABITAT COFFEE SHOP  3708 N EAGLE ROCK BLVD  False        Cafe   \n",
       "1  11787             REILLY'S       100 WORLD WAY 120  False  Restaurant   \n",
       "\n",
       "   number  \n",
       "0      26  \n",
       "1       9  "
      ]
     },
     "execution_count": 7,
     "metadata": {},
     "output_type": "execute_result"
    }
   ],
   "source": [
    "rest_data.head(2)"
   ]
  },
  {
   "cell_type": "markdown",
   "metadata": {},
   "source": [
    "### Proporciones de los distintos tipos de establecimientos."
   ]
  },
  {
   "cell_type": "code",
   "execution_count": 8,
   "metadata": {},
   "outputs": [
    {
     "data": {
      "text/html": [
       "<iframe\n",
       "    scrolling=\"no\"\n",
       "    width=\"100%\"\n",
       "    height=\"545px\"\n",
       "    src=\"iframe_figures/figure_8.html\"\n",
       "    frameborder=\"0\"\n",
       "    allowfullscreen\n",
       "></iframe>\n"
      ]
     },
     "metadata": {},
     "output_type": "display_data"
    }
   ],
   "source": [
    "rest_data_type = rest_data['object_type'].value_counts(normalize = True).reset_index()\n",
    "rest_data_type.columns = ['object_type', 'proportion']\n",
    "\n",
    "fig = px.bar(\n",
    "    rest_data_type,\n",
    "    x = 'object_type',\n",
    "    y = 'proportion',\n",
    "    title = 'Proporción de tipos de establelcimiento',\n",
    "    labels = {\n",
    "        'object_type': 'Tipo de establecimiento',\n",
    "        'proportion': 'Proporción'\n",
    "    },\n",
    "    color = 'object_type'\n",
    ")\n",
    "\n",
    "fig.show(renderer=\"iframe\")"
   ]
  },
  {
   "cell_type": "markdown",
   "metadata": {},
   "source": [
    "<div class=\"alert alert-block alert-success\">\n",
    "\n",
    "<b>Comentario del revisor. (Iteración 1)</b> <a class=\"tocSkip\"></a>\n",
    "\n",
    "Excelente análisis y comprensión del mismo Christian, hemos logrado el objetivo de visualizar las proporciones de los establecimientos, excelente! "
   ]
  },
  {
   "cell_type": "markdown",
   "metadata": {},
   "source": [
    "#### Conclusiones de las representaciones gráficas de los distintos tipos de establecimientos."
   ]
  },
  {
   "cell_type": "markdown",
   "metadata": {},
   "source": [
    "La gran mayoría de los establecimientos en nuestra base de datos son restaurantes siendo poco más de un 75% del total. Los siguientes son la comida chatarra con 11% y el resto se encuentran por debajo del 5%."
   ]
  },
  {
   "cell_type": "markdown",
   "metadata": {},
   "source": [
    "### Proporciones de establecimientos que pertenecen a una cadena vs las no pertenecientes. "
   ]
  },
  {
   "cell_type": "code",
   "execution_count": 9,
   "metadata": {},
   "outputs": [
    {
     "data": {
      "text/plain": [
       "Text(0.5, 1.0, 'Proporción de establecimientos que son de cadena vs establecimientos que no son de cadena')"
      ]
     },
     "execution_count": 9,
     "metadata": {},
     "output_type": "execute_result"
    },
    {
     "data": {
      "image/png": "[encoded data removed]",
      "text/plain": [
       "<Figure size 640x480 with 1 Axes>"
      ]
     },
     "metadata": {},
     "output_type": "display_data"
    }
   ],
   "source": [
    "chain_vs = rest_data['chain'].value_counts(normalize = True).reset_index()\n",
    "chain_vs.columns = ['chain', 'proportion']\n",
    "chain_vs['chain'] = chain_vs['chain'].replace({True: 'Sí', False: 'No'})\n",
    "\n",
    "ax = sns.barplot(x = 'chain', y = 'proportion', data = chain_vs)\n",
    "ax.set_xlabel('Cadena')\n",
    "ax.set_ylabel('Proporción')\n",
    "ax.set_title('Proporción de establecimientos que son de cadena vs establecimientos que no son de cadena')"
   ]
  },
  {
   "cell_type": "markdown",
   "metadata": {},
   "source": [
    "<div class=\"alert alert-block alert-success\">\n",
    "\n",
    "<b>Comentario del revisor. (Iteración 1)</b> <a class=\"tocSkip\"></a>\n",
    "\n",
    "Y aquí un gráfico ideal para poder visualizar por tipo de establecimiento las cadenas, impresionante!  "
   ]
  },
  {
   "cell_type": "markdown",
   "metadata": {},
   "source": [
    "#### Grafica de establecimientos pertenecientes a una cadena vs no pertenecientes."
   ]
  },
  {
   "cell_type": "markdown",
   "metadata": {},
   "source": [
    "Poco más del 62% de los establecimientos registrados no pertenecen a una cadena comercial."
   ]
  },
  {
   "cell_type": "markdown",
   "metadata": {},
   "source": [
    "### Tipos de establecimientos que son habitualmente una cadena."
   ]
  },
  {
   "cell_type": "code",
   "execution_count": 10,
   "metadata": {},
   "outputs": [
    {
     "data": {
      "text/html": [
       "<div>\n",
       "<style scoped>\n",
       "    .dataframe tbody tr th:only-of-type {\n",
       "        vertical-align: middle;\n",
       "    }\n",
       "\n",
       "    .dataframe tbody tr th {\n",
       "        vertical-align: top;\n",
       "    }\n",
       "\n",
       "    .dataframe thead th {\n",
       "        text-align: right;\n",
       "    }\n",
       "</style>\n",
       "<table border=\"1\" class=\"dataframe\">\n",
       "  <thead>\n",
       "    <tr style=\"text-align: right;\">\n",
       "      <th></th>\n",
       "      <th>object_type</th>\n",
       "      <th>chain</th>\n",
       "      <th>count</th>\n",
       "      <th>total</th>\n",
       "      <th>proportion</th>\n",
       "    </tr>\n",
       "  </thead>\n",
       "  <tbody>\n",
       "    <tr>\n",
       "      <th>0</th>\n",
       "      <td>Bakery</td>\n",
       "      <td>True</td>\n",
       "      <td>283</td>\n",
       "      <td>283</td>\n",
       "      <td>1.000000</td>\n",
       "    </tr>\n",
       "    <tr>\n",
       "      <th>1</th>\n",
       "      <td>Bar</td>\n",
       "      <td>False</td>\n",
       "      <td>215</td>\n",
       "      <td>292</td>\n",
       "      <td>0.736301</td>\n",
       "    </tr>\n",
       "    <tr>\n",
       "      <th>2</th>\n",
       "      <td>Bar</td>\n",
       "      <td>True</td>\n",
       "      <td>77</td>\n",
       "      <td>292</td>\n",
       "      <td>0.263699</td>\n",
       "    </tr>\n",
       "    <tr>\n",
       "      <th>3</th>\n",
       "      <td>Cafe</td>\n",
       "      <td>False</td>\n",
       "      <td>169</td>\n",
       "      <td>435</td>\n",
       "      <td>0.388506</td>\n",
       "    </tr>\n",
       "    <tr>\n",
       "      <th>4</th>\n",
       "      <td>Cafe</td>\n",
       "      <td>True</td>\n",
       "      <td>266</td>\n",
       "      <td>435</td>\n",
       "      <td>0.611494</td>\n",
       "    </tr>\n",
       "    <tr>\n",
       "      <th>5</th>\n",
       "      <td>Fast Food</td>\n",
       "      <td>False</td>\n",
       "      <td>461</td>\n",
       "      <td>1066</td>\n",
       "      <td>0.432458</td>\n",
       "    </tr>\n",
       "    <tr>\n",
       "      <th>6</th>\n",
       "      <td>Fast Food</td>\n",
       "      <td>True</td>\n",
       "      <td>605</td>\n",
       "      <td>1066</td>\n",
       "      <td>0.567542</td>\n",
       "    </tr>\n",
       "    <tr>\n",
       "      <th>7</th>\n",
       "      <td>Pizza</td>\n",
       "      <td>False</td>\n",
       "      <td>166</td>\n",
       "      <td>319</td>\n",
       "      <td>0.520376</td>\n",
       "    </tr>\n",
       "    <tr>\n",
       "      <th>8</th>\n",
       "      <td>Pizza</td>\n",
       "      <td>True</td>\n",
       "      <td>153</td>\n",
       "      <td>319</td>\n",
       "      <td>0.479624</td>\n",
       "    </tr>\n",
       "    <tr>\n",
       "      <th>9</th>\n",
       "      <td>Restaurant</td>\n",
       "      <td>False</td>\n",
       "      <td>4961</td>\n",
       "      <td>7253</td>\n",
       "      <td>0.683993</td>\n",
       "    </tr>\n",
       "    <tr>\n",
       "      <th>10</th>\n",
       "      <td>Restaurant</td>\n",
       "      <td>True</td>\n",
       "      <td>2292</td>\n",
       "      <td>7253</td>\n",
       "      <td>0.316007</td>\n",
       "    </tr>\n",
       "  </tbody>\n",
       "</table>\n",
       "</div>"
      ],
      "text/plain": [
       "   object_type  chain  count  total  proportion\n",
       "0       Bakery   True    283    283    1.000000\n",
       "1          Bar  False    215    292    0.736301\n",
       "2          Bar   True     77    292    0.263699\n",
       "3         Cafe  False    169    435    0.388506\n",
       "4         Cafe   True    266    435    0.611494\n",
       "5    Fast Food  False    461   1066    0.432458\n",
       "6    Fast Food   True    605   1066    0.567542\n",
       "7        Pizza  False    166    319    0.520376\n",
       "8        Pizza   True    153    319    0.479624\n",
       "9   Restaurant  False   4961   7253    0.683993\n",
       "10  Restaurant   True   2292   7253    0.316007"
      ]
     },
     "execution_count": 10,
     "metadata": {},
     "output_type": "execute_result"
    }
   ],
   "source": [
    "count = (\n",
    "    rest_data\n",
    "    .groupby(['object_type', 'chain'])\n",
    "    .size()\n",
    "    .reset_index(name = 'count')\n",
    ")\n",
    "\n",
    "total_stablishment = (\n",
    "    rest_data\n",
    "    .groupby('object_type')\n",
    "    .size()\n",
    "    .reset_index(name = 'total')\n",
    ")\n",
    "\n",
    "total_merged = (\n",
    "    count\n",
    "    .merge(\n",
    "        total_stablishment,\n",
    "        on = 'object_type',\n",
    "        how = 'left'\n",
    "    )\n",
    ")\n",
    "\n",
    "total_merged['proportion'] = total_merged['count'] / total_merged['total']\n",
    "\n",
    "total_merged"
   ]
  },
  {
   "cell_type": "code",
   "execution_count": 11,
   "metadata": {},
   "outputs": [
    {
     "data": {
      "image/png": "[encoded data removed]",
      "text/plain": [
       "<Figure size 640x480 with 1 Axes>"
      ]
     },
     "metadata": {},
     "output_type": "display_data"
    }
   ],
   "source": [
    "sns.barplot(\n",
    "    data = total_merged,\n",
    "    x = 'object_type',\n",
    "    y = 'proportion',\n",
    "    hue = 'chain'\n",
    ")\n",
    "\n",
    "handles, labels = ax.get_legend_handles_labels()\n",
    "\n",
    "plt.title('Proporción de establecimientos que son cadena')\n",
    "plt.xlabel('Tipo de establecimiento')\n",
    "plt.ylabel('Proporción')\n",
    "\n",
    "plt.show()"
   ]
  },
  {
   "cell_type": "markdown",
   "metadata": {},
   "source": [
    "<div class=\"alert alert-block alert-warning\">\n",
    "\n",
    "<b>Comentario del revisor. (Iteración 1)</b> <a class=\"tocSkip\"></a>\n",
    "\n",
    "Cuidado aquí Christian, la intención es correcta pero deberíamos cambiar el enfoque. Si queremos corroborar que tipo de establecimiento es habitualmente una cadena no debemos simplemente contabilizar la cantidad de cadenas que hay por establecimiento a nivel general sino ver el porcentaje del mismo, es decir sobre los restaurantes, ¿cuál es el porcentaje de restaurantes que son cadenas? ¿y sobre bakery?, es decir que si bakery tiene 9 cadenas sobre 10 establecimientos tiene un 90% de cadenas mientras que si restaurante tiene 20 de 100 significa que un 20% es habitualmente cadena, etc. Tratemos de corregirlo pero con este nuevo enfoque que te comento :)"
   ]
  },
  {
   "cell_type": "markdown",
   "metadata": {},
   "source": [
    " <div class=\"alert alert-block alert-info\">\n",
    "\n",
    " <b>Respuesta de estudiante.</b> <a class=\"tocSkip\"></a>\n",
    "\n",
    " </div>\n",
    " \n",
    " Muchas gracias por el comentario. Realmente era la gráfica que más me hacía ruido dejarla así, pero no se me había ocurrido manejarla de esta forma."
   ]
  },
  {
   "cell_type": "markdown",
   "metadata": {},
   "source": [
    "<div class=\"alert alert-block alert-success\">\n",
    "\n",
    "<b>Comentario del revisor. (Iteración 2)</b> <a class=\"tocSkip\"></a>\n",
    "    \n",
    "Ahora sí! Has resuelto perfectamente el error. Efectivamente son las Bakery los tipos de establecimiento que son, en su totalidad, cadenas. Excelente."
   ]
  },
  {
   "cell_type": "markdown",
   "metadata": {},
   "source": [
    "#### Conclusiones de tipos de establecimientos más comunes en las cadenas."
   ]
  },
  {
   "cell_type": "markdown",
   "metadata": {},
   "source": [
    "Dentro de los datos que tenemos, todos los establecimientos de panaderías pertenecen a una cadena, mientras que en el caso de cafeterías y establecimientos de comida rápida la mayoría pertenecen a alguna cadena. Las pizzerías tienen una distribución similar entre cadena y no establecimiento de cadena. Los restaurantes y bares se caracterizan por no pertenecer a una cadena."
   ]
  },
  {
   "cell_type": "markdown",
   "metadata": {},
   "source": [
    "### ¿Qué carácteriza a una cadena?"
   ]
  },
  {
   "cell_type": "code",
   "execution_count": 38,
   "metadata": {},
   "outputs": [
    {
     "name": "stdout",
     "output_type": "stream",
     "text": [
      "La mediana de la cantidad de sillas es: 25.0\n"
     ]
    },
    {
     "data": {
      "image/png": "[encoded data removed]",
      "text/plain": [
       "<Figure size 640x480 with 1 Axes>"
      ]
     },
     "metadata": {},
     "output_type": "display_data"
    }
   ],
   "source": [
    "chain = (\n",
    "    rest_data[rest_data['chain'] == True]\n",
    ")\n",
    "\n",
    "median = chain['number'].median()\n",
    "\n",
    "print(f'La mediana de la cantidad de sillas es: {median}')\n",
    "\n",
    "sns.histplot(\n",
    "    data = chain,\n",
    "    x = 'number',\n",
    "    bins = 10,\n",
    "    kde = True\n",
    ")\n",
    "\n",
    "plt.title('Cantidad de restaurantes de cadena y cantidad de sillas')\n",
    "plt.xlabel('Número de sillas')\n",
    "plt.ylabel('Cantidad de restaurantes')\n",
    "\n",
    "plt.show()"
   ]
  },
  {
   "cell_type": "markdown",
   "metadata": {},
   "source": [
    "<div class=\"alert alert-block alert-warning\">\n",
    "\n",
    "<b>Comentario del revisor. (Iteración 1)</b> <a class=\"tocSkip\"></a>\n",
    "Has realizado un buen anàlisis de los datos. Sin embargo, para este caso, una mejor forma de visualizacòn para poder responder a la consigna sería mediante la implementación de un gráfico de tipo de histograma. Prueba hacerlo asì."
   ]
  },
  {
   "cell_type": "markdown",
   "metadata": {},
   "source": [
    " <div class=\"alert alert-block alert-info\">\n",
    "\n",
    " <b>Respuesta de estudiante.</b> <a class=\"tocSkip\"></a>\n",
    "\n",
    " </div>\n",
    " \n",
    " Intenté corregirlo, pero llego a una visualización igual. No supe cómo resolver este problema. "
   ]
  },
  {
   "cell_type": "markdown",
   "metadata": {},
   "source": [
    "<div class=\"alert alert-block alert-success\">\n",
    "\n",
    "<b>Comentario del revisor. (Iteración 2)</b> <a class=\"tocSkip\"></a>\n",
    "    \n",
    "Christian, repasemos nuevamente la consigna. Se solicita que analices las características de los establecimientos que sí son una cadena. Cuando son cadenas, ¿tenemos muchos establecimientos con un pequeño número de asientos o unos pocos establecimientos con un montón de asientos? Te recomiendo que pruebes filtrando cuando la condición de cadena sea true, veas la cantidad de establecimientos y analices la mediana. De esta manera podrías aplicas un gráfico tipo histograma viendo con qué frecuencia aparecen establecimientos según distintas agrupaciones de cantidades de asientos. Probemos de nuevo!\n",
    "    \n",
    "    Ahora si excelente Christian, esto es lo que se buscaba! La cantidad de bins puede variar, por lo general mientras mayor cantidad de bins mayor la precisión ya que tenems más intervalos agrupados, para este caso la cantidad es correcta!"
   ]
  },
  {
   "cell_type": "markdown",
   "metadata": {},
   "source": [
    " <div class=\"alert alert-block alert-info\">\n",
    "\n",
    " <b>Respuesta de estudiante.</b> <a class=\"tocSkip\"></a>\n",
    "\n",
    " </div>\n",
    "    \n",
    "Listo, Facundo. Creo que ya entendí lo que se buscaba y al menos ahora me hace mucho sentido la gráfica. En caso de que sea lo buscado, me gustaría saber cuál sería la cantidad de bins más adecuada. Intenté con varias opciones, pero no supe cómo tomar una decición fundamentada."
   ]
  },
  {
   "cell_type": "code",
   "execution_count": 14,
   "metadata": {},
   "outputs": [
    {
     "data": {
      "text/html": [
       "<iframe\n",
       "    scrolling=\"no\"\n",
       "    width=\"100%\"\n",
       "    height=\"545px\"\n",
       "    src=\"iframe_figures/figure_14.html\"\n",
       "    frameborder=\"0\"\n",
       "    allowfullscreen\n",
       "></iframe>\n"
      ]
     },
     "metadata": {},
     "output_type": "display_data"
    }
   ],
   "source": [
    "type_merged_grouped = (\n",
    "    type_merged\n",
    "    .groupby('object_type')['rate'].mean()\n",
    "    .reset_index()\n",
    ")\n",
    "\n",
    "mean_rate = type_merged_grouped['rate'].mean()\n",
    "median_rate = type_merged_grouped['rate'].median()\n",
    "\n",
    "# Crear el gráfico de líneas\n",
    "fig_line = go.Figure()\n",
    "\n",
    "# Agregar la línea de datos\n",
    "fig_line.add_trace(go.Scatter(\n",
    "    x=type_merged_grouped['object_type'],\n",
    "    y=type_merged_grouped['rate'],\n",
    "    mode='lines+markers',\n",
    "    name='Promedio de Sillas por Establecimiento'\n",
    "))\n",
    "\n",
    "# Agregar línea de promedio\n",
    "fig_line.add_trace(go.Scatter(\n",
    "    x=type_merged_grouped['object_type'],\n",
    "    y=[mean_rate] * len(type_merged_grouped),\n",
    "    mode='lines',\n",
    "    name=f'Promedio ({mean_rate:.2f})',\n",
    "    line=dict(color='red', dash='dash')\n",
    "))\n",
    "\n",
    "# Agregar línea de mediana\n",
    "fig_line.add_trace(go.Scatter(\n",
    "    x=type_merged_grouped['object_type'],\n",
    "    y=[median_rate] * len(type_merged_grouped),\n",
    "    mode='lines',\n",
    "    name=f'Mediana ({median_rate:.2f})',\n",
    "    line=dict(color='blue', dash='dash')\n",
    "))\n",
    "\n",
    "# Actualizar el diseño del gráfico\n",
    "fig_line.update_layout(\n",
    "    title='Promedio de sillas por establecimiento',\n",
    "    xaxis_title='Tipo de establecimiento',\n",
    "    yaxis_title='Promedio',\n",
    "    xaxis_tickangle=60\n",
    ")\n",
    "\n",
    "# Mostrar el gráfico\n",
    "fig_line.show(renderer=\"iframe\")"
   ]
  },
  {
   "cell_type": "markdown",
   "metadata": {},
   "source": [
    "#### Conclusiones de características de cadenas."
   ]
  },
  {
   "cell_type": "markdown",
   "metadata": {},
   "source": [
    "La gran mayoría de los establecimientos que pertenecen a una cadena tienen menos de 50 sillas por cada uno. Menos de 500 tienen entre 50 y 100 sillas. En promedio los establecimientos registrados. El promedio de sillas en los establecimientos es de 32.72, los restaurantes y los bares están por arriba del promedio mienntras que el resto se encuentran por debajo."
   ]
  },
  {
   "cell_type": "markdown",
   "metadata": {},
   "source": [
    "### Promedio de cada tipo de restaurante."
   ]
  },
  {
   "cell_type": "code",
   "execution_count": 15,
   "metadata": {},
   "outputs": [
    {
     "data": {
      "text/html": [
       "<div>\n",
       "<style scoped>\n",
       "    .dataframe tbody tr th:only-of-type {\n",
       "        vertical-align: middle;\n",
       "    }\n",
       "\n",
       "    .dataframe tbody tr th {\n",
       "        vertical-align: top;\n",
       "    }\n",
       "\n",
       "    .dataframe thead th {\n",
       "        text-align: right;\n",
       "    }\n",
       "</style>\n",
       "<table border=\"1\" class=\"dataframe\">\n",
       "  <thead>\n",
       "    <tr style=\"text-align: right;\">\n",
       "      <th></th>\n",
       "      <th>chain</th>\n",
       "      <th>object_type</th>\n",
       "      <th>total_type</th>\n",
       "      <th>chair_number</th>\n",
       "      <th>rate</th>\n",
       "      <th>chair_average</th>\n",
       "    </tr>\n",
       "  </thead>\n",
       "  <tbody>\n",
       "    <tr>\n",
       "      <th>1</th>\n",
       "      <td>False</td>\n",
       "      <td>Restaurant</td>\n",
       "      <td>4961</td>\n",
       "      <td>245688</td>\n",
       "      <td>49.523886</td>\n",
       "      <td>49.523886</td>\n",
       "    </tr>\n",
       "    <tr>\n",
       "      <th>9</th>\n",
       "      <td>False</td>\n",
       "      <td>Bar</td>\n",
       "      <td>215</td>\n",
       "      <td>9972</td>\n",
       "      <td>46.381395</td>\n",
       "      <td>46.381395</td>\n",
       "    </tr>\n",
       "    <tr>\n",
       "      <th>0</th>\n",
       "      <td>True</td>\n",
       "      <td>Restaurant</td>\n",
       "      <td>2292</td>\n",
       "      <td>102810</td>\n",
       "      <td>44.856021</td>\n",
       "      <td>44.856021</td>\n",
       "    </tr>\n",
       "    <tr>\n",
       "      <th>8</th>\n",
       "      <td>True</td>\n",
       "      <td>Bar</td>\n",
       "      <td>77</td>\n",
       "      <td>3100</td>\n",
       "      <td>40.259740</td>\n",
       "      <td>40.259740</td>\n",
       "    </tr>\n",
       "    <tr>\n",
       "      <th>4</th>\n",
       "      <td>True</td>\n",
       "      <td>Fast Food</td>\n",
       "      <td>605</td>\n",
       "      <td>23044</td>\n",
       "      <td>38.089256</td>\n",
       "      <td>38.089256</td>\n",
       "    </tr>\n",
       "    <tr>\n",
       "      <th>3</th>\n",
       "      <td>False</td>\n",
       "      <td>Pizza</td>\n",
       "      <td>166</td>\n",
       "      <td>5200</td>\n",
       "      <td>31.325301</td>\n",
       "      <td>31.325301</td>\n",
       "    </tr>\n",
       "    <tr>\n",
       "      <th>6</th>\n",
       "      <td>True</td>\n",
       "      <td>Cafe</td>\n",
       "      <td>266</td>\n",
       "      <td>6894</td>\n",
       "      <td>25.917293</td>\n",
       "      <td>25.917293</td>\n",
       "    </tr>\n",
       "    <tr>\n",
       "      <th>2</th>\n",
       "      <td>True</td>\n",
       "      <td>Pizza</td>\n",
       "      <td>153</td>\n",
       "      <td>3906</td>\n",
       "      <td>25.529412</td>\n",
       "      <td>25.529412</td>\n",
       "    </tr>\n",
       "    <tr>\n",
       "      <th>5</th>\n",
       "      <td>False</td>\n",
       "      <td>Fast Food</td>\n",
       "      <td>461</td>\n",
       "      <td>10895</td>\n",
       "      <td>23.633406</td>\n",
       "      <td>23.633406</td>\n",
       "    </tr>\n",
       "    <tr>\n",
       "      <th>7</th>\n",
       "      <td>False</td>\n",
       "      <td>Cafe</td>\n",
       "      <td>169</td>\n",
       "      <td>3981</td>\n",
       "      <td>23.556213</td>\n",
       "      <td>23.556213</td>\n",
       "    </tr>\n",
       "    <tr>\n",
       "      <th>10</th>\n",
       "      <td>True</td>\n",
       "      <td>Bakery</td>\n",
       "      <td>283</td>\n",
       "      <td>6162</td>\n",
       "      <td>21.773852</td>\n",
       "      <td>21.773852</td>\n",
       "    </tr>\n",
       "  </tbody>\n",
       "</table>\n",
       "</div>"
      ],
      "text/plain": [
       "    chain object_type  total_type  chair_number       rate  chair_average\n",
       "1   False  Restaurant        4961        245688  49.523886      49.523886\n",
       "9   False         Bar         215          9972  46.381395      46.381395\n",
       "0    True  Restaurant        2292        102810  44.856021      44.856021\n",
       "8    True         Bar          77          3100  40.259740      40.259740\n",
       "4    True   Fast Food         605         23044  38.089256      38.089256\n",
       "3   False       Pizza         166          5200  31.325301      31.325301\n",
       "6    True        Cafe         266          6894  25.917293      25.917293\n",
       "2    True       Pizza         153          3906  25.529412      25.529412\n",
       "5   False   Fast Food         461         10895  23.633406      23.633406\n",
       "7   False        Cafe         169          3981  23.556213      23.556213\n",
       "10   True      Bakery         283          6162  21.773852      21.773852"
      ]
     },
     "execution_count": 15,
     "metadata": {},
     "output_type": "execute_result"
    }
   ],
   "source": [
    "type_merged['chair_average'] = type_merged['chair_number'] / type_merged['total_type']\n",
    "\n",
    "type_merged"
   ]
  },
  {
   "cell_type": "code",
   "execution_count": 16,
   "metadata": {},
   "outputs": [
    {
     "data": {
      "text/html": [
       "<div>\n",
       "<style scoped>\n",
       "    .dataframe tbody tr th:only-of-type {\n",
       "        vertical-align: middle;\n",
       "    }\n",
       "\n",
       "    .dataframe tbody tr th {\n",
       "        vertical-align: top;\n",
       "    }\n",
       "\n",
       "    .dataframe thead th {\n",
       "        text-align: right;\n",
       "    }\n",
       "</style>\n",
       "<table border=\"1\" class=\"dataframe\">\n",
       "  <thead>\n",
       "    <tr style=\"text-align: right;\">\n",
       "      <th></th>\n",
       "      <th>object_type</th>\n",
       "      <th>total_type</th>\n",
       "      <th>chair_average</th>\n",
       "    </tr>\n",
       "  </thead>\n",
       "  <tbody>\n",
       "    <tr>\n",
       "      <th>0</th>\n",
       "      <td>Restaurant</td>\n",
       "      <td>7253</td>\n",
       "      <td>47.189954</td>\n",
       "    </tr>\n",
       "    <tr>\n",
       "      <th>1</th>\n",
       "      <td>Fast Food</td>\n",
       "      <td>1066</td>\n",
       "      <td>30.861331</td>\n",
       "    </tr>\n",
       "    <tr>\n",
       "      <th>2</th>\n",
       "      <td>Cafe</td>\n",
       "      <td>435</td>\n",
       "      <td>24.736753</td>\n",
       "    </tr>\n",
       "    <tr>\n",
       "      <th>3</th>\n",
       "      <td>Pizza</td>\n",
       "      <td>319</td>\n",
       "      <td>28.427356</td>\n",
       "    </tr>\n",
       "    <tr>\n",
       "      <th>4</th>\n",
       "      <td>Bar</td>\n",
       "      <td>292</td>\n",
       "      <td>43.320568</td>\n",
       "    </tr>\n",
       "    <tr>\n",
       "      <th>5</th>\n",
       "      <td>Bakery</td>\n",
       "      <td>283</td>\n",
       "      <td>21.773852</td>\n",
       "    </tr>\n",
       "  </tbody>\n",
       "</table>\n",
       "</div>"
      ],
      "text/plain": [
       "  object_type  total_type  chair_average\n",
       "0  Restaurant        7253      47.189954\n",
       "1   Fast Food        1066      30.861331\n",
       "2        Cafe         435      24.736753\n",
       "3       Pizza         319      28.427356\n",
       "4         Bar         292      43.320568\n",
       "5      Bakery         283      21.773852"
      ]
     },
     "execution_count": 16,
     "metadata": {},
     "output_type": "execute_result"
    }
   ],
   "source": [
    "average_chairs_per_type = (\n",
    "    type_merged.groupby('object_type')\n",
    "    .agg({\n",
    "        'total_type': 'sum',\n",
    "        'chair_average': 'mean'\n",
    "    })\n",
    "    .sort_values(by = 'total_type', ascending = False)\n",
    "    .reset_index()\n",
    ")\n",
    "\n",
    "average_chairs_per_type"
   ]
  },
  {
   "cell_type": "code",
   "execution_count": 17,
   "metadata": {},
   "outputs": [
    {
     "data": {
      "image/png": "[encoded data removed]",
      "text/plain": [
       "<Figure size 640x480 with 1 Axes>"
      ]
     },
     "metadata": {},
     "output_type": "display_data"
    }
   ],
   "source": [
    "average_chairs_per_type\n",
    "\n",
    "sns.barplot(\n",
    "    data = average_chairs_per_type,\n",
    "    x = 'object_type',\n",
    "    y = 'chair_average'\n",
    ")\n",
    "plt.xlabel('Tipo de establecimiento')\n",
    "plt.ylabel('Promedio')\n",
    "plt.title('Promedio de sillas por establecimiento')\n",
    "\n",
    "plt.show()"
   ]
  },
  {
   "cell_type": "markdown",
   "metadata": {},
   "source": [
    "<div class=\"alert alert-block alert-success\">\n",
    "\n",
    "<b>Comentario del revisor. (Iteración 1)</b> <a class=\"tocSkip\"></a>\n",
    "\n",
    "Muy bien resuelto. Simple y conciso."
   ]
  },
  {
   "cell_type": "markdown",
   "metadata": {},
   "source": [
    "#### Los restaurantes tienen la mayor cantidad de"
   ]
  },
  {
   "cell_type": "code",
   "execution_count": 18,
   "metadata": {},
   "outputs": [
    {
     "data": {
      "text/html": [
       "<div>\n",
       "<style scoped>\n",
       "    .dataframe tbody tr th:only-of-type {\n",
       "        vertical-align: middle;\n",
       "    }\n",
       "\n",
       "    .dataframe tbody tr th {\n",
       "        vertical-align: top;\n",
       "    }\n",
       "\n",
       "    .dataframe thead th {\n",
       "        text-align: right;\n",
       "    }\n",
       "</style>\n",
       "<table border=\"1\" class=\"dataframe\">\n",
       "  <thead>\n",
       "    <tr style=\"text-align: right;\">\n",
       "      <th></th>\n",
       "      <th>object_type</th>\n",
       "      <th>total_type</th>\n",
       "      <th>chair_average</th>\n",
       "    </tr>\n",
       "  </thead>\n",
       "  <tbody>\n",
       "    <tr>\n",
       "      <th>0</th>\n",
       "      <td>Restaurant</td>\n",
       "      <td>7253</td>\n",
       "      <td>47.189954</td>\n",
       "    </tr>\n",
       "    <tr>\n",
       "      <th>1</th>\n",
       "      <td>Fast Food</td>\n",
       "      <td>1066</td>\n",
       "      <td>30.861331</td>\n",
       "    </tr>\n",
       "    <tr>\n",
       "      <th>2</th>\n",
       "      <td>Cafe</td>\n",
       "      <td>435</td>\n",
       "      <td>24.736753</td>\n",
       "    </tr>\n",
       "    <tr>\n",
       "      <th>3</th>\n",
       "      <td>Pizza</td>\n",
       "      <td>319</td>\n",
       "      <td>28.427356</td>\n",
       "    </tr>\n",
       "    <tr>\n",
       "      <th>4</th>\n",
       "      <td>Bar</td>\n",
       "      <td>292</td>\n",
       "      <td>43.320568</td>\n",
       "    </tr>\n",
       "    <tr>\n",
       "      <th>5</th>\n",
       "      <td>Bakery</td>\n",
       "      <td>283</td>\n",
       "      <td>21.773852</td>\n",
       "    </tr>\n",
       "  </tbody>\n",
       "</table>\n",
       "</div>"
      ],
      "text/plain": [
       "  object_type  total_type  chair_average\n",
       "0  Restaurant        7253      47.189954\n",
       "1   Fast Food        1066      30.861331\n",
       "2        Cafe         435      24.736753\n",
       "3       Pizza         319      28.427356\n",
       "4         Bar         292      43.320568\n",
       "5      Bakery         283      21.773852"
      ]
     },
     "execution_count": 18,
     "metadata": {},
     "output_type": "execute_result"
    }
   ],
   "source": [
    "average_chairs_per_type"
   ]
  },
  {
   "cell_type": "markdown",
   "metadata": {},
   "source": [
    "### Nombres de las calles."
   ]
  },
  {
   "cell_type": "code",
   "execution_count": 19,
   "metadata": {},
   "outputs": [
    {
     "data": {
      "text/html": [
       "<div>\n",
       "<style scoped>\n",
       "    .dataframe tbody tr th:only-of-type {\n",
       "        vertical-align: middle;\n",
       "    }\n",
       "\n",
       "    .dataframe tbody tr th {\n",
       "        vertical-align: top;\n",
       "    }\n",
       "\n",
       "    .dataframe thead th {\n",
       "        text-align: right;\n",
       "    }\n",
       "</style>\n",
       "<table border=\"1\" class=\"dataframe\">\n",
       "  <thead>\n",
       "    <tr style=\"text-align: right;\">\n",
       "      <th></th>\n",
       "      <th>id</th>\n",
       "      <th>object_name</th>\n",
       "      <th>address</th>\n",
       "      <th>chain</th>\n",
       "      <th>object_type</th>\n",
       "      <th>number</th>\n",
       "      <th>street_name</th>\n",
       "    </tr>\n",
       "  </thead>\n",
       "  <tbody>\n",
       "    <tr>\n",
       "      <th>0</th>\n",
       "      <td>11786</td>\n",
       "      <td>HABITAT COFFEE SHOP</td>\n",
       "      <td>3708 N EAGLE ROCK BLVD</td>\n",
       "      <td>False</td>\n",
       "      <td>Cafe</td>\n",
       "      <td>26</td>\n",
       "      <td>N EAGLE ROCK BLVD</td>\n",
       "    </tr>\n",
       "    <tr>\n",
       "      <th>1</th>\n",
       "      <td>11787</td>\n",
       "      <td>REILLY'S</td>\n",
       "      <td>100 WORLD WAY 120</td>\n",
       "      <td>False</td>\n",
       "      <td>Restaurant</td>\n",
       "      <td>9</td>\n",
       "      <td>WORLD WAY 120</td>\n",
       "    </tr>\n",
       "    <tr>\n",
       "      <th>2</th>\n",
       "      <td>11788</td>\n",
       "      <td>STREET CHURROS</td>\n",
       "      <td>6801 HOLLYWOOD BLVD 253</td>\n",
       "      <td>False</td>\n",
       "      <td>Fast Food</td>\n",
       "      <td>20</td>\n",
       "      <td>HOLLYWOOD BLVD 253</td>\n",
       "    </tr>\n",
       "    <tr>\n",
       "      <th>3</th>\n",
       "      <td>11789</td>\n",
       "      <td>TRINITI ECHO PARK</td>\n",
       "      <td>1814 W SUNSET BLVD</td>\n",
       "      <td>False</td>\n",
       "      <td>Restaurant</td>\n",
       "      <td>22</td>\n",
       "      <td>W SUNSET BLVD</td>\n",
       "    </tr>\n",
       "    <tr>\n",
       "      <th>4</th>\n",
       "      <td>11790</td>\n",
       "      <td>POLLEN</td>\n",
       "      <td>2100 ECHO PARK AVE</td>\n",
       "      <td>False</td>\n",
       "      <td>Restaurant</td>\n",
       "      <td>20</td>\n",
       "      <td>ECHO PARK AVE</td>\n",
       "    </tr>\n",
       "  </tbody>\n",
       "</table>\n",
       "</div>"
      ],
      "text/plain": [
       "      id          object_name                  address  chain object_type  \\\n",
       "0  11786  HABITAT COFFEE SHOP   3708 N EAGLE ROCK BLVD  False        Cafe   \n",
       "1  11787             REILLY'S        100 WORLD WAY 120  False  Restaurant   \n",
       "2  11788       STREET CHURROS  6801 HOLLYWOOD BLVD 253  False   Fast Food   \n",
       "3  11789    TRINITI ECHO PARK       1814 W SUNSET BLVD  False  Restaurant   \n",
       "4  11790               POLLEN       2100 ECHO PARK AVE  False  Restaurant   \n",
       "\n",
       "   number         street_name  \n",
       "0      26   N EAGLE ROCK BLVD  \n",
       "1       9       WORLD WAY 120  \n",
       "2      20  HOLLYWOOD BLVD 253  \n",
       "3      22       W SUNSET BLVD  \n",
       "4      20       ECHO PARK AVE  "
      ]
     },
     "metadata": {},
     "output_type": "display_data"
    }
   ],
   "source": [
    "def extrac_street_name(address):\n",
    "    match = re.search(r'\\d+\\s*(.*)', address)\n",
    "    return match.group(1).strip() if match else address\n",
    "\n",
    "rest_data['street_name'] = rest_data['address'].apply(extrac_street_name)\n",
    "\n",
    "# Mostrar el DataFrame resultante\n",
    "display(rest_data.head())"
   ]
  },
  {
   "cell_type": "markdown",
   "metadata": {},
   "source": [
    "### 10 mejores calles por números de restaurante."
   ]
  },
  {
   "cell_type": "code",
   "execution_count": 20,
   "metadata": {},
   "outputs": [
    {
     "data": {
      "image/png": "[encoded data removed]",
      "text/plain": [
       "<Figure size 1200x800 with 1 Axes>"
      ]
     },
     "metadata": {},
     "output_type": "display_data"
    }
   ],
   "source": [
    "street_counts = rest_data['street_name'].value_counts().reset_index()\n",
    "street_counts.columns = ['street_name', 'establishment_count']\n",
    "\n",
    "top_streets = street_counts.head(10)\n",
    "\n",
    "plt.figure(figsize=(12, 8))\n",
    "sns.barplot(\n",
    "    data=top_streets,\n",
    "    x='street_name',\n",
    "    y='establishment_count',\n",
    "    palette='viridis'\n",
    ")\n",
    "\n",
    "plt.xlabel('Nombre de la Calle')\n",
    "plt.ylabel('Número de Establecimientos')\n",
    "plt.title('Las 10 Calles con Más Establecimientos')\n",
    "plt.xticks(rotation = 45)\n",
    "\n",
    "plt.show()"
   ]
  },
  {
   "cell_type": "markdown",
   "metadata": {},
   "source": [
    "<div class=\"alert alert-block alert-success\">\n",
    "\n",
    "<b>Comentario del revisor. (Iteración 1)</b> <a class=\"tocSkip\"></a>\n",
    "\n",
    "Excelente Christian! No todos los estudiantes lo logran a la primera, excelente gráfico derivado de la transformación correcta sobre los nombres de las calles, bien hecho!"
   ]
  },
  {
   "cell_type": "markdown",
   "metadata": {},
   "source": [
    "### Calles con un solo restaurante."
   ]
  },
  {
   "cell_type": "code",
   "execution_count": 21,
   "metadata": {},
   "outputs": [
    {
     "name": "stdout",
     "output_type": "stream",
     "text": [
      "La cantidad de calles con un solo restaurante es: 2442\n"
     ]
    }
   ],
   "source": [
    "one_object_streets = street_counts[street_counts['establishment_count'] == 1]\n",
    "\n",
    "print(f'La cantidad de calles con un solo restaurante es: {len(one_object_streets)}')"
   ]
  },
  {
   "cell_type": "markdown",
   "metadata": {},
   "source": [
    "<div class=\"alert alert-block alert-success\">\n",
    "\n",
    "<b>Comentario del revisor. (Iteración 1)</b> <a class=\"tocSkip\"></a>\n",
    "\n",
    "Fantástico. Has llegado al número correcto."
   ]
  },
  {
   "cell_type": "markdown",
   "metadata": {},
   "source": [
    "### Calles con gran número de restaurantes y distribución del número de asientos."
   ]
  },
  {
   "cell_type": "code",
   "execution_count": 22,
   "metadata": {},
   "outputs": [
    {
     "data": {
      "text/html": [
       "<div>\n",
       "<style scoped>\n",
       "    .dataframe tbody tr th:only-of-type {\n",
       "        vertical-align: middle;\n",
       "    }\n",
       "\n",
       "    .dataframe tbody tr th {\n",
       "        vertical-align: top;\n",
       "    }\n",
       "\n",
       "    .dataframe thead th {\n",
       "        text-align: right;\n",
       "    }\n",
       "</style>\n",
       "<table border=\"1\" class=\"dataframe\">\n",
       "  <thead>\n",
       "    <tr style=\"text-align: right;\">\n",
       "      <th></th>\n",
       "      <th>street_name</th>\n",
       "      <th>establishment_count</th>\n",
       "      <th>number</th>\n",
       "      <th>chair_rate</th>\n",
       "    </tr>\n",
       "  </thead>\n",
       "  <tbody>\n",
       "    <tr>\n",
       "      <th>0</th>\n",
       "      <td>W SUNSET BLVD</td>\n",
       "      <td>296</td>\n",
       "      <td>15072</td>\n",
       "      <td>50.918919</td>\n",
       "    </tr>\n",
       "    <tr>\n",
       "      <th>1</th>\n",
       "      <td>W PICO BLVD</td>\n",
       "      <td>288</td>\n",
       "      <td>11773</td>\n",
       "      <td>40.878472</td>\n",
       "    </tr>\n",
       "    <tr>\n",
       "      <th>2</th>\n",
       "      <td>HOLLYWOOD BLVD</td>\n",
       "      <td>167</td>\n",
       "      <td>8973</td>\n",
       "      <td>53.730539</td>\n",
       "    </tr>\n",
       "    <tr>\n",
       "      <th>3</th>\n",
       "      <td>WILSHIRE BLVD</td>\n",
       "      <td>161</td>\n",
       "      <td>10003</td>\n",
       "      <td>62.130435</td>\n",
       "    </tr>\n",
       "    <tr>\n",
       "      <th>4</th>\n",
       "      <td>S VERMONT AVE</td>\n",
       "      <td>148</td>\n",
       "      <td>6790</td>\n",
       "      <td>45.878378</td>\n",
       "    </tr>\n",
       "    <tr>\n",
       "      <th>5</th>\n",
       "      <td>SANTA MONICA BLVD</td>\n",
       "      <td>146</td>\n",
       "      <td>4729</td>\n",
       "      <td>32.390411</td>\n",
       "    </tr>\n",
       "    <tr>\n",
       "      <th>6</th>\n",
       "      <td>W 3RD ST</td>\n",
       "      <td>145</td>\n",
       "      <td>6370</td>\n",
       "      <td>43.931034</td>\n",
       "    </tr>\n",
       "    <tr>\n",
       "      <th>7</th>\n",
       "      <td>BEVERLY BLVD</td>\n",
       "      <td>135</td>\n",
       "      <td>6044</td>\n",
       "      <td>44.770370</td>\n",
       "    </tr>\n",
       "    <tr>\n",
       "      <th>8</th>\n",
       "      <td>S FIGUEROA ST</td>\n",
       "      <td>134</td>\n",
       "      <td>6802</td>\n",
       "      <td>50.761194</td>\n",
       "    </tr>\n",
       "    <tr>\n",
       "      <th>9</th>\n",
       "      <td>S WESTERN AVE</td>\n",
       "      <td>128</td>\n",
       "      <td>5517</td>\n",
       "      <td>43.101562</td>\n",
       "    </tr>\n",
       "  </tbody>\n",
       "</table>\n",
       "</div>"
      ],
      "text/plain": [
       "         street_name  establishment_count  number  chair_rate\n",
       "0      W SUNSET BLVD                  296   15072   50.918919\n",
       "1        W PICO BLVD                  288   11773   40.878472\n",
       "2     HOLLYWOOD BLVD                  167    8973   53.730539\n",
       "3      WILSHIRE BLVD                  161   10003   62.130435\n",
       "4      S VERMONT AVE                  148    6790   45.878378\n",
       "5  SANTA MONICA BLVD                  146    4729   32.390411\n",
       "6           W 3RD ST                  145    6370   43.931034\n",
       "7       BEVERLY BLVD                  135    6044   44.770370\n",
       "8      S FIGUEROA ST                  134    6802   50.761194\n",
       "9      S WESTERN AVE                  128    5517   43.101562"
      ]
     },
     "execution_count": 22,
     "metadata": {},
     "output_type": "execute_result"
    }
   ],
   "source": [
    "t = top_streets['street_name'].tolist()\n",
    "\n",
    "filtered_data = (\n",
    "    rest_data[rest_data['street_name']\n",
    "    .isin(t)]\n",
    "    .reset_index()\n",
    ")\n",
    "\n",
    "filtered_merged = (\n",
    "    filtered_data\n",
    "    .merge(\n",
    "        street_counts,\n",
    "        on = 'street_name',\n",
    "        how = 'left'\n",
    "    )\n",
    ")\n",
    "\n",
    "filtered_grouped = (\n",
    "    filtered_merged\n",
    "    .groupby('street_name')\n",
    "    .agg({\n",
    "        'establishment_count': 'first',\n",
    "        'number': 'sum'\n",
    "    })\n",
    "    .sort_values(by = 'establishment_count', ascending = False)\n",
    "    .reset_index()\n",
    ")\n",
    "\n",
    "filtered_grouped['chair_rate'] = (\n",
    "    filtered_grouped['number'] \n",
    "    / filtered_grouped['establishment_count']\n",
    ")\n",
    "\n",
    "filtered_grouped = filtered_grouped.sort_values(by ='establishment_count', ascending = False)\n",
    "\n",
    "filtered_grouped"
   ]
  },
  {
   "cell_type": "code",
   "execution_count": 23,
   "metadata": {},
   "outputs": [
    {
     "data": {
      "image/png": "[encoded data removed]",
      "text/plain": [
       "<Figure size 1200x800 with 1 Axes>"
      ]
     },
     "metadata": {},
     "output_type": "display_data"
    }
   ],
   "source": [
    "plt.figure(figsize=(12, 8))\n",
    "sns.barplot(\n",
    "    data = filtered_grouped,\n",
    "    x = 'street_name',\n",
    "    y = 'chair_rate'\n",
    ")\n",
    "plt.xlabel('Las 10 calles con más establecimientos')\n",
    "plt.ylabel('Promedio')\n",
    "plt.title('Promedio de sillas por establecimiento en el top 10 de calles')\n",
    "plt.xticks(rotation = 60)\n",
    "\n",
    "plt.show()"
   ]
  },
  {
   "cell_type": "markdown",
   "metadata": {},
   "source": [
    "<div class=\"alert alert-block alert-success\">\n",
    "\n",
    "<b>Comentario del revisor. (Iteración 1)</b> <a class=\"tocSkip\"></a>\n",
    "\n",
    "Un trabajo espectacular Christian, estos últimos agregados profundizando las distribuciones en las calles más populares, felicitaciones!"
   ]
  },
  {
   "cell_type": "code",
   "execution_count": 24,
   "metadata": {},
   "outputs": [
    {
     "data": {
      "text/html": [
       "<iframe\n",
       "    scrolling=\"no\"\n",
       "    width=\"100%\"\n",
       "    height=\"545px\"\n",
       "    src=\"iframe_figures/figure_24.html\"\n",
       "    frameborder=\"0\"\n",
       "    allowfullscreen\n",
       "></iframe>\n"
      ]
     },
     "metadata": {},
     "output_type": "display_data"
    }
   ],
   "source": [
    "mean_rate_top = filtered_grouped['chair_rate'].mean()\n",
    "median_rate_top = filtered_grouped['chair_rate'].median()\n",
    "\n",
    "\n",
    "fig_line_top = go.Figure()\n",
    "\n",
    "fig_line_top.add_trace(go.Scatter(\n",
    "    x=filtered_grouped['street_name'],\n",
    "    y=filtered_grouped['chair_rate'],\n",
    "    mode='lines+markers',\n",
    "    name='Promedio de Sillas por calle'\n",
    "))\n",
    "\n",
    "\n",
    "fig_line_top.add_trace(go.Scatter(\n",
    "    x=filtered_grouped['street_name'],\n",
    "    y=[mean_rate_top] * len(filtered_grouped),\n",
    "    mode='lines',\n",
    "    name=f'Promedio ({mean_rate_top:.2f})',\n",
    "    line=dict(color='red', dash='dash')\n",
    "))\n",
    "\n",
    "fig_line_top.add_trace(go.Scatter(\n",
    "    x=filtered_grouped['street_name'],\n",
    "    y=[median_rate_top] * len(filtered_grouped),\n",
    "    mode='lines',\n",
    "    name=f'Mediana ({median_rate_top:.2f})',\n",
    "    line=dict(color='blue', dash='dash')\n",
    "))\n",
    "\n",
    "fig_line_top.update_layout(\n",
    "    title='Promedio de sillas por calle',\n",
    "    xaxis_title='Calle',\n",
    "    yaxis_title='Promedio',\n",
    "    xaxis_tickangle=60\n",
    ")\n",
    "\n",
    "fig_line_top.show(renderer=\"iframe\")"
   ]
  },
  {
   "cell_type": "markdown",
   "metadata": {},
   "source": [
    "<div class=\"alert alert-block alert-success\">\n",
    "\n",
    "<b>Comentario del revisor. (Iteración 1)</b> <a class=\"tocSkip\"></a>\n",
    "Buena forma de llegar a determinas las calles con màs sillas. Bien hecho."
   ]
  },
  {
   "cell_type": "markdown",
   "metadata": {},
   "source": [
    "#### Conclusiones de calles con gran número de restaurantes y distribución del número de asientos."
   ]
  },
  {
   "cell_type": "markdown",
   "metadata": {},
   "source": [
    "En promedio, las sillas que tienen los establecimientos en las calles más con mayor número de ellos supera al promedio de las sillas de toda la base de datos. Podría pensar que ya que hay más opciones, más gente suele asistir a estos lugares y buscan tener una mayor posibilidad de recibir clientes para dar el servicio. También, hay 5 calles que superan o están muy cerca del promedio de sillas."
   ]
  },
  {
   "cell_type": "markdown",
   "metadata": {},
   "source": [
    "## Presentación para inversionistas."
   ]
  },
  {
   "cell_type": "markdown",
   "metadata": {},
   "source": [
    "Presentación: <https://drive.google.com/file/d/1wY5Od8SDGt2xmiRyA8OLDwhHAUHVWd7s/view?usp=sharing>"
   ]
  },
  {
   "cell_type": "markdown",
   "metadata": {},
   "source": [
    "## Conclusiones generales."
   ]
  },
  {
   "cell_type": "markdown",
   "metadata": {},
   "source": [
    "- La realización de este proyecto está basada en un solo data set. Este data set fue tratado para procesar solo 3 valores nulos en la columna de chain que contenía 3 valores nulos. Los valores fueron eliminados ya que no representaban un porcentaje representativo de los datos.\n",
    "- Una mayoría de establecimientos que no son de cadena, estos son representados por el 62% de los registros el resto son establecimientos de cadena.\n",
    "- Los restaurantes que no son de cadena superan por una cantidad considerable a los que sí lo son.\n",
    "- La proporción de sillas disponibles con la cantidad de establecimientos no parece tener una relación en si son o no de cadena.\n",
    "- En promedio los restaurantes y los bares son los establecimientos con mayor número de asientos.\n",
    "- Las calles con un mayor número de establecimientos tienen un mayor promedio de sillas disponibles."
   ]
  },
  {
   "cell_type": "markdown",
   "metadata": {},
   "source": [
    "<div class=\"alert alert-block alert-warning\">\n",
    "\n",
    "<b>Comentario del revisor. (Iteración 1)</b> <a class=\"tocSkip\"></a>\n",
    "\n",
    "Christian, te solicito que habilites el link para que cualquier persona pueda tener acceso al mismo asì puedo corregir la presentación. Espero ese cambio para poder aprobar esta parte del trabajo!"
   ]
  },
  {
   "cell_type": "markdown",
   "metadata": {},
   "source": [
    "<div class=\"alert alert-block alert-success\">\n",
    "\n",
    "<b>Comentario del revisor. (Iteración 2)</b> <a class=\"tocSkip\"></a>\n",
    "\n",
    "Ahora si, la presentación está muy clara. Está bien pensada la comunicación hacia un potencial cliente. Felicitaciones!"
   ]
  }
 ],
 "metadata": {
  "ExecuteTimeLog": [
   {
    "duration": 326,
    "start_time": "2024-09-01T18:20:27.784Z"
   },
   {
    "duration": 179,
    "start_time": "2024-09-01T18:20:38.318Z"
   },
   {
    "duration": 17,
    "start_time": "2024-09-01T18:20:47.520Z"
   },
   {
    "duration": 11,
    "start_time": "2024-09-01T18:20:48.985Z"
   },
   {
    "duration": 323,
    "start_time": "2024-09-01T18:20:51.694Z"
   },
   {
    "duration": 8,
    "start_time": "2024-09-01T18:21:03.637Z"
   },
   {
    "duration": 41,
    "start_time": "2024-09-01T18:52:55.815Z"
   },
   {
    "duration": 3,
    "start_time": "2024-09-01T18:53:19.000Z"
   },
   {
    "duration": 2293,
    "start_time": "2024-09-01T18:53:27.395Z"
   },
   {
    "duration": 33,
    "start_time": "2024-09-01T18:54:13.953Z"
   },
   {
    "duration": 20,
    "start_time": "2024-09-01T18:54:28.702Z"
   },
   {
    "duration": 2683,
    "start_time": "2024-09-02T17:04:27.742Z"
   },
   {
    "duration": 34,
    "start_time": "2024-09-02T17:04:30.427Z"
   },
   {
    "duration": 37,
    "start_time": "2024-09-02T17:07:03.881Z"
   },
   {
    "duration": 40,
    "start_time": "2024-09-02T17:09:42.710Z"
   },
   {
    "duration": 44,
    "start_time": "2024-09-02T17:10:57.356Z"
   },
   {
    "duration": 8,
    "start_time": "2024-09-02T17:21:12.488Z"
   },
   {
    "duration": 8,
    "start_time": "2024-09-02T17:21:57.058Z"
   },
   {
    "duration": 7,
    "start_time": "2024-09-02T17:22:01.528Z"
   },
   {
    "duration": 10,
    "start_time": "2024-09-02T17:22:32.688Z"
   },
   {
    "duration": 15,
    "start_time": "2024-09-02T17:23:11.433Z"
   },
   {
    "duration": 14,
    "start_time": "2024-09-02T17:25:31.468Z"
   },
   {
    "duration": 15,
    "start_time": "2024-09-02T17:26:07.070Z"
   },
   {
    "duration": 832,
    "start_time": "2024-09-02T17:26:27.417Z"
   },
   {
    "duration": 22,
    "start_time": "2024-09-02T17:26:28.251Z"
   },
   {
    "duration": 56,
    "start_time": "2024-09-02T17:26:28.274Z"
   },
   {
    "duration": 14,
    "start_time": "2024-09-02T17:26:28.331Z"
   },
   {
    "duration": 15,
    "start_time": "2024-09-02T17:33:51.991Z"
   },
   {
    "duration": 15,
    "start_time": "2024-09-02T17:34:05.383Z"
   },
   {
    "duration": 13,
    "start_time": "2024-09-02T17:35:04.633Z"
   },
   {
    "duration": 12,
    "start_time": "2024-09-02T17:35:22.458Z"
   },
   {
    "duration": 8,
    "start_time": "2024-09-02T17:36:50.488Z"
   },
   {
    "duration": 6,
    "start_time": "2024-09-02T17:36:55.996Z"
   },
   {
    "duration": 3,
    "start_time": "2024-09-02T17:38:35.066Z"
   },
   {
    "duration": 3,
    "start_time": "2024-09-02T17:38:40.069Z"
   },
   {
    "duration": 3,
    "start_time": "2024-09-02T17:38:54.735Z"
   },
   {
    "duration": 260,
    "start_time": "2024-09-02T17:43:58.706Z"
   },
   {
    "duration": 3,
    "start_time": "2024-09-02T17:44:16.774Z"
   },
   {
    "duration": 132,
    "start_time": "2024-09-02T17:44:23.527Z"
   },
   {
    "duration": 275,
    "start_time": "2024-09-02T17:48:03.734Z"
   },
   {
    "duration": 15,
    "start_time": "2024-09-02T17:49:12.904Z"
   },
   {
    "duration": 367,
    "start_time": "2024-09-02T17:49:21.499Z"
   },
   {
    "duration": 8,
    "start_time": "2024-09-02T17:51:09.071Z"
   },
   {
    "duration": 14,
    "start_time": "2024-09-02T17:51:23.854Z"
   },
   {
    "duration": 8,
    "start_time": "2024-09-02T17:51:34.896Z"
   },
   {
    "duration": 8,
    "start_time": "2024-09-02T17:55:57.230Z"
   },
   {
    "duration": 143,
    "start_time": "2024-09-02T17:56:12.278Z"
   },
   {
    "duration": 5,
    "start_time": "2024-09-02T17:56:47.830Z"
   },
   {
    "duration": 85,
    "start_time": "2024-09-02T17:57:00.745Z"
   },
   {
    "duration": 49,
    "start_time": "2024-09-02T17:57:19.638Z"
   },
   {
    "duration": 18,
    "start_time": "2024-09-02T17:58:05.852Z"
   },
   {
    "duration": 50,
    "start_time": "2024-09-02T19:05:48.699Z"
   },
   {
    "duration": 2,
    "start_time": "2024-09-02T19:06:02.214Z"
   },
   {
    "duration": 19,
    "start_time": "2024-09-02T19:06:02.218Z"
   },
   {
    "duration": 36,
    "start_time": "2024-09-02T19:06:02.239Z"
   },
   {
    "duration": 14,
    "start_time": "2024-09-02T19:06:02.277Z"
   },
   {
    "duration": 45,
    "start_time": "2024-09-02T19:06:02.293Z"
   },
   {
    "duration": 7,
    "start_time": "2024-09-02T19:06:02.340Z"
   },
   {
    "duration": 47,
    "start_time": "2024-09-02T19:06:02.349Z"
   },
   {
    "duration": 50,
    "start_time": "2024-09-02T19:06:14.317Z"
   },
   {
    "duration": 48,
    "start_time": "2024-09-02T19:07:17.010Z"
   },
   {
    "duration": 48,
    "start_time": "2024-09-02T19:08:42.385Z"
   },
   {
    "duration": 48,
    "start_time": "2024-09-02T19:08:45.061Z"
   },
   {
    "duration": 3,
    "start_time": "2024-09-02T19:09:00.112Z"
   },
   {
    "duration": 24,
    "start_time": "2024-09-02T19:09:00.118Z"
   },
   {
    "duration": 38,
    "start_time": "2024-09-02T19:09:00.144Z"
   },
   {
    "duration": 16,
    "start_time": "2024-09-02T19:09:00.183Z"
   },
   {
    "duration": 37,
    "start_time": "2024-09-02T19:09:00.202Z"
   },
   {
    "duration": 7,
    "start_time": "2024-09-02T19:09:00.241Z"
   },
   {
    "duration": 49,
    "start_time": "2024-09-02T19:09:00.249Z"
   },
   {
    "duration": 128,
    "start_time": "2024-09-02T19:17:25.273Z"
   },
   {
    "duration": 48,
    "start_time": "2024-09-02T19:17:34.814Z"
   },
   {
    "duration": 128,
    "start_time": "2024-09-02T19:17:49.852Z"
   },
   {
    "duration": 8,
    "start_time": "2024-09-02T19:18:57.106Z"
   },
   {
    "duration": 8,
    "start_time": "2024-09-02T19:19:07.487Z"
   },
   {
    "duration": 615,
    "start_time": "2024-09-02T19:23:28.373Z"
   },
   {
    "duration": 163,
    "start_time": "2024-09-02T19:23:58.092Z"
   },
   {
    "duration": 464,
    "start_time": "2024-09-02T19:26:27.156Z"
   },
   {
    "duration": 84,
    "start_time": "2024-09-02T19:26:33.781Z"
   },
   {
    "duration": 85,
    "start_time": "2024-09-02T19:26:52.835Z"
   },
   {
    "duration": 90,
    "start_time": "2024-09-02T19:29:07.510Z"
   },
   {
    "duration": 98,
    "start_time": "2024-09-02T19:30:16.445Z"
   },
   {
    "duration": 112,
    "start_time": "2024-09-02T19:30:32.329Z"
   },
   {
    "duration": 9,
    "start_time": "2024-09-02T19:39:57.157Z"
   },
   {
    "duration": 8,
    "start_time": "2024-09-02T19:40:39.052Z"
   },
   {
    "duration": 11,
    "start_time": "2024-09-02T19:41:29.595Z"
   },
   {
    "duration": 13,
    "start_time": "2024-09-02T19:44:37.168Z"
   },
   {
    "duration": 8,
    "start_time": "2024-09-02T19:47:44.249Z"
   },
   {
    "duration": 9,
    "start_time": "2024-09-02T19:47:53.575Z"
   },
   {
    "duration": 323,
    "start_time": "2024-09-02T19:49:24.072Z"
   },
   {
    "duration": 6,
    "start_time": "2024-09-02T19:49:36.408Z"
   },
   {
    "duration": 51,
    "start_time": "2024-09-02T19:49:47.889Z"
   },
   {
    "duration": 12,
    "start_time": "2024-09-02T19:51:34.648Z"
   },
   {
    "duration": 9,
    "start_time": "2024-09-02T19:53:44.955Z"
   },
   {
    "duration": 10,
    "start_time": "2024-09-02T19:53:52.071Z"
   },
   {
    "duration": 11,
    "start_time": "2024-09-02T19:54:32.900Z"
   },
   {
    "duration": 13,
    "start_time": "2024-09-02T19:54:57.834Z"
   },
   {
    "duration": 12,
    "start_time": "2024-09-02T19:55:23.599Z"
   },
   {
    "duration": 15,
    "start_time": "2024-09-02T19:56:37.485Z"
   },
   {
    "duration": 14,
    "start_time": "2024-09-02T19:56:46.177Z"
   },
   {
    "duration": 342,
    "start_time": "2024-09-02T19:59:39.892Z"
   },
   {
    "duration": 14,
    "start_time": "2024-09-02T20:00:42.793Z"
   },
   {
    "duration": 44,
    "start_time": "2024-09-02T20:01:13.052Z"
   },
   {
    "duration": 51,
    "start_time": "2024-09-02T20:14:21.009Z"
   },
   {
    "duration": 144,
    "start_time": "2024-09-02T20:14:34.921Z"
   },
   {
    "duration": 26,
    "start_time": "2024-09-02T20:17:24.975Z"
   },
   {
    "duration": 130,
    "start_time": "2024-09-02T20:17:42.313Z"
   },
   {
    "duration": 3029,
    "start_time": "2024-09-02T21:54:23.154Z"
   },
   {
    "duration": 58,
    "start_time": "2024-09-02T21:54:26.186Z"
   },
   {
    "duration": 38,
    "start_time": "2024-09-02T21:54:26.246Z"
   },
   {
    "duration": 13,
    "start_time": "2024-09-02T21:54:26.286Z"
   },
   {
    "duration": 24,
    "start_time": "2024-09-02T21:54:26.301Z"
   },
   {
    "duration": 10,
    "start_time": "2024-09-02T21:54:26.329Z"
   },
   {
    "duration": 399,
    "start_time": "2024-09-02T21:54:26.342Z"
   },
   {
    "duration": 138,
    "start_time": "2024-09-02T21:54:26.743Z"
   },
   {
    "duration": 247,
    "start_time": "2024-09-02T21:54:26.883Z"
   },
   {
    "duration": 150,
    "start_time": "2024-09-02T22:06:07.544Z"
   },
   {
    "duration": 168,
    "start_time": "2024-09-02T22:06:46.726Z"
   },
   {
    "duration": 770,
    "start_time": "2024-09-02T22:11:03.014Z"
   },
   {
    "duration": 12,
    "start_time": "2024-09-02T22:11:14.134Z"
   },
   {
    "duration": 14,
    "start_time": "2024-09-02T22:14:37.944Z"
   },
   {
    "duration": 13,
    "start_time": "2024-09-02T22:14:44.040Z"
   },
   {
    "duration": 6,
    "start_time": "2024-09-02T22:14:46.384Z"
   },
   {
    "duration": 16,
    "start_time": "2024-09-02T22:15:11.566Z"
   },
   {
    "duration": 13,
    "start_time": "2024-09-02T22:15:12.685Z"
   },
   {
    "duration": 7,
    "start_time": "2024-09-02T22:15:14.870Z"
   },
   {
    "duration": 35,
    "start_time": "2024-09-02T22:17:12.416Z"
   },
   {
    "duration": 15,
    "start_time": "2024-09-02T22:17:39.580Z"
   },
   {
    "duration": 23,
    "start_time": "2024-09-02T22:18:15.121Z"
   },
   {
    "duration": 14,
    "start_time": "2024-09-02T22:18:41.569Z"
   },
   {
    "duration": 6,
    "start_time": "2024-09-02T22:19:20.675Z"
   },
   {
    "duration": 17,
    "start_time": "2024-09-02T22:20:58.478Z"
   },
   {
    "duration": 28,
    "start_time": "2024-09-02T22:21:53.972Z"
   },
   {
    "duration": 24,
    "start_time": "2024-09-02T22:22:05.920Z"
   },
   {
    "duration": 5,
    "start_time": "2024-09-02T22:22:22.663Z"
   },
   {
    "duration": 18,
    "start_time": "2024-09-02T22:22:43.141Z"
   },
   {
    "duration": 18,
    "start_time": "2024-09-02T22:22:53.942Z"
   },
   {
    "duration": 21,
    "start_time": "2024-09-02T22:23:07.796Z"
   },
   {
    "duration": 20,
    "start_time": "2024-09-02T22:23:28.734Z"
   },
   {
    "duration": 18,
    "start_time": "2024-09-02T22:23:40.969Z"
   },
   {
    "duration": 18,
    "start_time": "2024-09-02T22:24:45.158Z"
   },
   {
    "duration": 20,
    "start_time": "2024-09-02T22:25:39.474Z"
   },
   {
    "duration": 155,
    "start_time": "2024-09-02T22:36:03.424Z"
   },
   {
    "duration": 30,
    "start_time": "2024-09-02T22:36:48.602Z"
   },
   {
    "duration": 187,
    "start_time": "2024-09-02T22:37:06.426Z"
   },
   {
    "duration": 188,
    "start_time": "2024-09-02T22:38:23.189Z"
   },
   {
    "duration": 192,
    "start_time": "2024-09-02T22:40:10.648Z"
   },
   {
    "duration": 19,
    "start_time": "2024-09-02T22:40:48.061Z"
   },
   {
    "duration": 19,
    "start_time": "2024-09-02T22:41:15.773Z"
   },
   {
    "duration": 24,
    "start_time": "2024-09-02T22:43:59.193Z"
   },
   {
    "duration": 24,
    "start_time": "2024-09-02T22:52:10.821Z"
   },
   {
    "duration": 8,
    "start_time": "2024-09-02T22:52:23.940Z"
   },
   {
    "duration": 159,
    "start_time": "2024-09-02T22:56:43.404Z"
   },
   {
    "duration": 125,
    "start_time": "2024-09-02T22:57:52.567Z"
   },
   {
    "duration": 19,
    "start_time": "2024-09-02T23:10:47.761Z"
   },
   {
    "duration": 16,
    "start_time": "2024-09-02T23:10:53.691Z"
   },
   {
    "duration": 3,
    "start_time": "2024-09-02T23:11:07.565Z"
   },
   {
    "duration": 14,
    "start_time": "2024-09-02T23:11:14.477Z"
   },
   {
    "duration": 17,
    "start_time": "2024-09-02T23:12:37.651Z"
   },
   {
    "duration": 28,
    "start_time": "2024-09-02T23:12:56.098Z"
   },
   {
    "duration": 20,
    "start_time": "2024-09-02T23:13:07.292Z"
   },
   {
    "duration": 21,
    "start_time": "2024-09-02T23:13:12.858Z"
   },
   {
    "duration": 20,
    "start_time": "2024-09-02T23:14:08.837Z"
   },
   {
    "duration": 17,
    "start_time": "2024-09-02T23:14:52.252Z"
   },
   {
    "duration": 5,
    "start_time": "2024-09-02T23:15:14.873Z"
   },
   {
    "duration": 19,
    "start_time": "2024-09-02T23:15:19.366Z"
   },
   {
    "duration": 5,
    "start_time": "2024-09-02T23:15:36.110Z"
   },
   {
    "duration": 16,
    "start_time": "2024-09-02T23:15:39.032Z"
   },
   {
    "duration": 235,
    "start_time": "2024-09-02T23:23:49.706Z"
   },
   {
    "duration": 14,
    "start_time": "2024-09-02T23:24:11.131Z"
   },
   {
    "duration": 199,
    "start_time": "2024-09-02T23:24:28.189Z"
   },
   {
    "duration": 224,
    "start_time": "2024-09-02T23:24:50.292Z"
   },
   {
    "duration": 331,
    "start_time": "2024-09-02T23:25:15.455Z"
   },
   {
    "duration": 207,
    "start_time": "2024-09-02T23:25:23.384Z"
   },
   {
    "duration": 9,
    "start_time": "2024-09-02T23:26:58.464Z"
   },
   {
    "duration": 7,
    "start_time": "2024-09-02T23:28:04.448Z"
   },
   {
    "duration": 2606,
    "start_time": "2024-09-03T17:30:44.305Z"
   },
   {
    "duration": 26,
    "start_time": "2024-09-03T17:30:46.913Z"
   },
   {
    "duration": 45,
    "start_time": "2024-09-03T17:30:46.941Z"
   },
   {
    "duration": 13,
    "start_time": "2024-09-03T17:30:46.988Z"
   },
   {
    "duration": 13,
    "start_time": "2024-09-03T17:30:47.003Z"
   },
   {
    "duration": 6,
    "start_time": "2024-09-03T17:30:47.017Z"
   },
   {
    "duration": 440,
    "start_time": "2024-09-03T17:30:47.026Z"
   },
   {
    "duration": 110,
    "start_time": "2024-09-03T17:30:47.468Z"
   },
   {
    "duration": 220,
    "start_time": "2024-09-03T17:30:47.580Z"
   },
   {
    "duration": 20,
    "start_time": "2024-09-03T17:30:47.802Z"
   },
   {
    "duration": 197,
    "start_time": "2024-09-03T17:30:47.823Z"
   },
   {
    "duration": 122,
    "start_time": "2024-09-03T17:30:48.021Z"
   },
   {
    "duration": 29,
    "start_time": "2024-09-03T17:30:48.145Z"
   },
   {
    "duration": 209,
    "start_time": "2024-09-03T17:30:48.177Z"
   },
   {
    "duration": 4,
    "start_time": "2024-09-03T17:30:48.388Z"
   },
   {
    "duration": 8,
    "start_time": "2024-09-03T17:31:10.583Z"
   },
   {
    "duration": 12,
    "start_time": "2024-09-03T17:32:54.905Z"
   },
   {
    "duration": 7,
    "start_time": "2024-09-03T17:33:46.580Z"
   },
   {
    "duration": 14,
    "start_time": "2024-09-03T17:34:06.665Z"
   },
   {
    "duration": 8,
    "start_time": "2024-09-03T17:39:11.321Z"
   },
   {
    "duration": 5,
    "start_time": "2024-09-03T17:39:27.210Z"
   },
   {
    "duration": 6,
    "start_time": "2024-09-03T17:39:51.110Z"
   },
   {
    "duration": 812,
    "start_time": "2024-09-03T17:40:56.523Z"
   },
   {
    "duration": 6,
    "start_time": "2024-09-03T17:41:18.798Z"
   },
   {
    "duration": 155,
    "start_time": "2024-09-03T17:42:33.543Z"
   },
   {
    "duration": 27,
    "start_time": "2024-09-03T17:43:08.278Z"
   },
   {
    "duration": 19,
    "start_time": "2024-09-03T17:43:31.882Z"
   },
   {
    "duration": 14,
    "start_time": "2024-09-03T17:43:51.684Z"
   },
   {
    "duration": 21,
    "start_time": "2024-09-03T17:44:06.329Z"
   },
   {
    "duration": 5,
    "start_time": "2024-09-03T17:44:40.541Z"
   },
   {
    "duration": 25,
    "start_time": "2024-09-03T17:44:53.268Z"
   },
   {
    "duration": 8,
    "start_time": "2024-09-03T17:46:58.811Z"
   },
   {
    "duration": 17,
    "start_time": "2024-09-03T17:47:15.436Z"
   },
   {
    "duration": 15,
    "start_time": "2024-09-03T17:51:01.505Z"
   },
   {
    "duration": 17,
    "start_time": "2024-09-03T17:51:33.535Z"
   },
   {
    "duration": 16,
    "start_time": "2024-09-03T17:52:02.090Z"
   },
   {
    "duration": 15,
    "start_time": "2024-09-03T17:53:41.554Z"
   },
   {
    "duration": 20,
    "start_time": "2024-09-03T17:54:57.142Z"
   },
   {
    "duration": 164,
    "start_time": "2024-09-03T17:55:03.695Z"
   },
   {
    "duration": 131,
    "start_time": "2024-09-03T18:05:20.488Z"
   },
   {
    "duration": 258,
    "start_time": "2024-09-03T18:05:58.701Z"
   },
   {
    "duration": 230,
    "start_time": "2024-09-03T18:08:13.998Z"
   },
   {
    "duration": 253,
    "start_time": "2024-09-03T18:09:22.909Z"
   },
   {
    "duration": 231,
    "start_time": "2024-09-03T18:09:44.451Z"
   },
   {
    "duration": 26,
    "start_time": "2024-09-03T18:14:30.029Z"
   },
   {
    "duration": 136,
    "start_time": "2024-09-03T18:14:54.000Z"
   },
   {
    "duration": 7,
    "start_time": "2024-09-03T18:16:27.210Z"
   },
   {
    "duration": 6,
    "start_time": "2024-09-03T18:18:04.782Z"
   },
   {
    "duration": 9,
    "start_time": "2024-09-03T18:18:19.338Z"
   },
   {
    "duration": 8,
    "start_time": "2024-09-03T18:20:39.891Z"
   },
   {
    "duration": 4,
    "start_time": "2024-09-03T18:21:08.562Z"
   },
   {
    "duration": 10,
    "start_time": "2024-09-03T18:21:12.857Z"
   },
   {
    "duration": 11,
    "start_time": "2024-09-03T18:21:43.109Z"
   },
   {
    "duration": 10,
    "start_time": "2024-09-03T18:22:22.053Z"
   },
   {
    "duration": 100,
    "start_time": "2024-09-03T18:22:41.782Z"
   },
   {
    "duration": 162,
    "start_time": "2024-09-03T18:23:29.248Z"
   },
   {
    "duration": 42,
    "start_time": "2024-09-03T18:23:50.530Z"
   },
   {
    "duration": 131,
    "start_time": "2024-09-03T18:25:09.420Z"
   },
   {
    "duration": 137,
    "start_time": "2024-09-03T18:25:24.453Z"
   },
   {
    "duration": 136,
    "start_time": "2024-09-03T18:25:38.545Z"
   },
   {
    "duration": 176,
    "start_time": "2024-09-03T18:33:11.540Z"
   },
   {
    "duration": 18,
    "start_time": "2024-09-03T18:34:02.404Z"
   },
   {
    "duration": 16,
    "start_time": "2024-09-03T18:35:01.166Z"
   },
   {
    "duration": 16,
    "start_time": "2024-09-03T18:35:43.770Z"
   },
   {
    "duration": 16,
    "start_time": "2024-09-03T18:35:46.272Z"
   },
   {
    "duration": 38,
    "start_time": "2024-09-03T18:35:49.594Z"
   },
   {
    "duration": 106,
    "start_time": "2024-09-03T18:36:20.256Z"
   },
   {
    "duration": 236,
    "start_time": "2024-09-03T18:36:38.756Z"
   },
   {
    "duration": 875,
    "start_time": "2024-09-03T18:36:56.505Z"
   },
   {
    "duration": 22,
    "start_time": "2024-09-03T18:36:57.382Z"
   },
   {
    "duration": 36,
    "start_time": "2024-09-03T18:36:57.405Z"
   },
   {
    "duration": 39,
    "start_time": "2024-09-03T18:36:57.443Z"
   },
   {
    "duration": 11,
    "start_time": "2024-09-03T18:36:57.485Z"
   },
   {
    "duration": 8,
    "start_time": "2024-09-03T18:36:57.498Z"
   },
   {
    "duration": 445,
    "start_time": "2024-09-03T18:36:57.507Z"
   },
   {
    "duration": 110,
    "start_time": "2024-09-03T18:36:57.954Z"
   },
   {
    "duration": 150,
    "start_time": "2024-09-03T18:36:58.066Z"
   },
   {
    "duration": 23,
    "start_time": "2024-09-03T18:36:58.217Z"
   },
   {
    "duration": 180,
    "start_time": "2024-09-03T18:36:58.243Z"
   },
   {
    "duration": 9,
    "start_time": "2024-09-03T18:36:58.425Z"
   },
   {
    "duration": 10,
    "start_time": "2024-09-03T18:36:58.436Z"
   },
   {
    "duration": 120,
    "start_time": "2024-09-03T18:36:58.450Z"
   },
   {
    "duration": 6,
    "start_time": "2024-09-03T18:36:58.572Z"
   },
   {
    "duration": 16,
    "start_time": "2024-09-03T18:36:58.580Z"
   },
   {
    "duration": 216,
    "start_time": "2024-09-03T18:36:58.598Z"
   },
   {
    "duration": 4,
    "start_time": "2024-09-03T18:36:58.816Z"
   },
   {
    "duration": 85,
    "start_time": "2024-09-03T18:36:58.822Z"
   },
   {
    "duration": 285,
    "start_time": "2024-09-03T18:36:58.909Z"
   },
   {
    "duration": 0,
    "start_time": "2024-09-03T18:36:59.196Z"
   },
   {
    "duration": 171,
    "start_time": "2024-09-03T18:37:13.489Z"
   },
   {
    "duration": 119,
    "start_time": "2024-09-03T18:37:16.580Z"
   },
   {
    "duration": 45,
    "start_time": "2024-09-03T18:38:44.076Z"
   },
   {
    "duration": 106,
    "start_time": "2024-09-03T18:39:00.212Z"
   },
   {
    "duration": 8,
    "start_time": "2024-09-03T18:41:04.188Z"
   },
   {
    "duration": 370,
    "start_time": "2024-09-03T18:41:44.247Z"
   },
   {
    "duration": 113,
    "start_time": "2024-09-03T18:42:09.067Z"
   },
   {
    "duration": 483,
    "start_time": "2024-09-03T18:44:04.183Z"
   },
   {
    "duration": 212,
    "start_time": "2024-09-03T18:44:18.138Z"
   },
   {
    "duration": 20,
    "start_time": "2024-09-03T18:44:56.500Z"
   },
   {
    "duration": 27,
    "start_time": "2024-09-03T18:45:23.535Z"
   },
   {
    "duration": 140,
    "start_time": "2024-09-03T18:45:42.746Z"
   },
   {
    "duration": 176,
    "start_time": "2024-09-03T18:48:42.062Z"
   },
   {
    "duration": 115,
    "start_time": "2024-09-03T18:48:53.950Z"
   },
   {
    "duration": 29,
    "start_time": "2024-09-03T18:49:32.745Z"
   },
   {
    "duration": 16,
    "start_time": "2024-09-03T18:49:57.792Z"
   },
   {
    "duration": 26,
    "start_time": "2024-09-03T18:50:13.674Z"
   },
   {
    "duration": 20,
    "start_time": "2024-09-03T18:51:25.019Z"
   },
   {
    "duration": 12,
    "start_time": "2024-09-03T18:51:38.642Z"
   },
   {
    "duration": 15,
    "start_time": "2024-09-03T18:51:46.407Z"
   },
   {
    "duration": 16,
    "start_time": "2024-09-03T18:51:55.200Z"
   },
   {
    "duration": 176,
    "start_time": "2024-09-03T18:52:00.983Z"
   },
   {
    "duration": 108,
    "start_time": "2024-09-03T18:52:07.671Z"
   },
   {
    "duration": 21,
    "start_time": "2024-09-03T18:52:51.026Z"
   },
   {
    "duration": 19,
    "start_time": "2024-09-03T18:53:00.059Z"
   },
   {
    "duration": 162,
    "start_time": "2024-09-03T18:53:02.937Z"
   },
   {
    "duration": 138,
    "start_time": "2024-09-03T18:53:06.008Z"
   },
   {
    "duration": 100,
    "start_time": "2024-09-03T18:53:26.406Z"
   },
   {
    "duration": 147,
    "start_time": "2024-09-03T18:53:40.275Z"
   },
   {
    "duration": 102,
    "start_time": "2024-09-03T18:54:16.599Z"
   },
   {
    "duration": 22,
    "start_time": "2024-09-03T19:09:21.655Z"
   },
   {
    "duration": 105,
    "start_time": "2024-09-03T19:09:37.908Z"
   },
   {
    "duration": 2,
    "start_time": "2024-09-03T19:10:20.784Z"
   },
   {
    "duration": 90,
    "start_time": "2024-09-03T19:11:01.866Z"
   },
   {
    "duration": 42,
    "start_time": "2024-09-03T19:11:41.602Z"
   },
   {
    "duration": 8,
    "start_time": "2024-09-03T19:12:04.577Z"
   },
   {
    "duration": 476,
    "start_time": "2024-09-03T19:14:09.895Z"
   },
   {
    "duration": 97,
    "start_time": "2024-09-03T19:14:36.763Z"
   },
   {
    "duration": 99,
    "start_time": "2024-09-03T19:15:23.094Z"
   },
   {
    "duration": 99,
    "start_time": "2024-09-03T19:15:47.010Z"
   },
   {
    "duration": 99,
    "start_time": "2024-09-03T19:16:23.365Z"
   },
   {
    "duration": 97,
    "start_time": "2024-09-03T19:20:11.666Z"
   },
   {
    "duration": 2,
    "start_time": "2024-09-03T19:20:39.350Z"
   },
   {
    "duration": 172,
    "start_time": "2024-09-03T19:40:18.556Z"
   },
   {
    "duration": 194,
    "start_time": "2024-09-03T19:48:06.820Z"
   },
   {
    "duration": 179,
    "start_time": "2024-09-03T19:55:44.628Z"
   },
   {
    "duration": 16,
    "start_time": "2024-09-03T19:56:54.211Z"
   },
   {
    "duration": 178,
    "start_time": "2024-09-03T19:56:57.753Z"
   },
   {
    "duration": 226,
    "start_time": "2024-09-03T19:57:51.813Z"
   },
   {
    "duration": 863,
    "start_time": "2024-09-03T20:05:53.005Z"
   },
   {
    "duration": 22,
    "start_time": "2024-09-03T20:05:53.870Z"
   },
   {
    "duration": 37,
    "start_time": "2024-09-03T20:05:53.894Z"
   },
   {
    "duration": 45,
    "start_time": "2024-09-03T20:05:53.933Z"
   },
   {
    "duration": 13,
    "start_time": "2024-09-03T20:05:53.980Z"
   },
   {
    "duration": 7,
    "start_time": "2024-09-03T20:05:53.994Z"
   },
   {
    "duration": 431,
    "start_time": "2024-09-03T20:05:54.003Z"
   },
   {
    "duration": 110,
    "start_time": "2024-09-03T20:05:54.436Z"
   },
   {
    "duration": 161,
    "start_time": "2024-09-03T20:05:54.548Z"
   },
   {
    "duration": 22,
    "start_time": "2024-09-03T20:05:54.711Z"
   },
   {
    "duration": 184,
    "start_time": "2024-09-03T20:05:54.735Z"
   },
   {
    "duration": 364,
    "start_time": "2024-09-03T20:05:54.921Z"
   },
   {
    "duration": 0,
    "start_time": "2024-09-03T20:05:55.288Z"
   },
   {
    "duration": 0,
    "start_time": "2024-09-03T20:05:55.289Z"
   },
   {
    "duration": 0,
    "start_time": "2024-09-03T20:05:55.291Z"
   },
   {
    "duration": 0,
    "start_time": "2024-09-03T20:05:55.292Z"
   },
   {
    "duration": 0,
    "start_time": "2024-09-03T20:05:55.294Z"
   },
   {
    "duration": 0,
    "start_time": "2024-09-03T20:05:55.295Z"
   },
   {
    "duration": 0,
    "start_time": "2024-09-03T20:05:55.296Z"
   },
   {
    "duration": 0,
    "start_time": "2024-09-03T20:05:55.298Z"
   },
   {
    "duration": 0,
    "start_time": "2024-09-03T20:05:55.299Z"
   },
   {
    "duration": 1,
    "start_time": "2024-09-03T20:05:55.299Z"
   },
   {
    "duration": 86,
    "start_time": "2024-09-03T20:09:15.942Z"
   },
   {
    "duration": 99,
    "start_time": "2024-09-03T20:09:27.405Z"
   },
   {
    "duration": 10,
    "start_time": "2024-09-03T20:09:27.506Z"
   },
   {
    "duration": 10,
    "start_time": "2024-09-03T20:09:27.518Z"
   },
   {
    "duration": 104,
    "start_time": "2024-09-03T20:09:27.530Z"
   },
   {
    "duration": 7,
    "start_time": "2024-09-03T20:09:27.635Z"
   },
   {
    "duration": 26,
    "start_time": "2024-09-03T20:09:27.644Z"
   },
   {
    "duration": 219,
    "start_time": "2024-09-03T20:09:27.671Z"
   },
   {
    "duration": 4,
    "start_time": "2024-09-03T20:09:27.892Z"
   },
   {
    "duration": 16,
    "start_time": "2024-09-03T20:09:27.898Z"
   },
   {
    "duration": 191,
    "start_time": "2024-09-03T20:09:27.917Z"
   },
   {
    "duration": 120,
    "start_time": "2024-09-03T20:09:28.109Z"
   },
   {
    "duration": 2657,
    "start_time": "2024-09-04T19:07:51.370Z"
   },
   {
    "duration": 36,
    "start_time": "2024-09-04T19:07:54.030Z"
   },
   {
    "duration": 39,
    "start_time": "2024-09-04T19:07:54.067Z"
   },
   {
    "duration": 14,
    "start_time": "2024-09-04T19:07:54.108Z"
   },
   {
    "duration": 12,
    "start_time": "2024-09-04T19:07:54.124Z"
   },
   {
    "duration": 7,
    "start_time": "2024-09-04T19:07:54.443Z"
   },
   {
    "duration": 482,
    "start_time": "2024-09-04T19:07:55.578Z"
   },
   {
    "duration": 128,
    "start_time": "2024-09-04T19:14:25.705Z"
   },
   {
    "duration": 110,
    "start_time": "2024-09-04T19:14:26.961Z"
   },
   {
    "duration": 179,
    "start_time": "2024-09-04T19:14:28.289Z"
   },
   {
    "duration": 21,
    "start_time": "2024-09-04T19:14:29.661Z"
   },
   {
    "duration": 189,
    "start_time": "2024-09-04T19:14:30.354Z"
   },
   {
    "duration": 108,
    "start_time": "2024-09-04T19:14:32.015Z"
   },
   {
    "duration": 21,
    "start_time": "2024-09-04T19:18:33.865Z"
   },
   {
    "duration": 162,
    "start_time": "2024-09-04T19:18:34.330Z"
   },
   {
    "duration": 91,
    "start_time": "2024-09-04T19:18:34.617Z"
   },
   {
    "duration": 9,
    "start_time": "2024-09-04T19:18:35.428Z"
   },
   {
    "duration": 9,
    "start_time": "2024-09-04T19:18:35.583Z"
   },
   {
    "duration": 103,
    "start_time": "2024-09-04T19:18:35.744Z"
   },
   {
    "duration": 6,
    "start_time": "2024-09-04T19:18:36.220Z"
   },
   {
    "duration": 18,
    "start_time": "2024-09-04T19:18:36.711Z"
   },
   {
    "duration": 199,
    "start_time": "2024-09-04T19:18:37.066Z"
   },
   {
    "duration": 4,
    "start_time": "2024-09-04T19:18:37.345Z"
   },
   {
    "duration": 16,
    "start_time": "2024-09-04T19:18:37.891Z"
   },
   {
    "duration": 175,
    "start_time": "2024-09-04T19:18:38.083Z"
   },
   {
    "duration": 92,
    "start_time": "2024-09-04T19:18:38.425Z"
   },
   {
    "duration": 2650,
    "start_time": "2024-09-05T00:29:31.967Z"
   },
   {
    "duration": 37,
    "start_time": "2024-09-05T00:29:34.619Z"
   },
   {
    "duration": 65,
    "start_time": "2024-09-05T00:29:34.660Z"
   },
   {
    "duration": 15,
    "start_time": "2024-09-05T00:29:34.728Z"
   },
   {
    "duration": 12,
    "start_time": "2024-09-05T00:29:34.744Z"
   },
   {
    "duration": 7,
    "start_time": "2024-09-05T00:29:34.758Z"
   },
   {
    "duration": 475,
    "start_time": "2024-09-05T00:29:34.767Z"
   },
   {
    "duration": 114,
    "start_time": "2024-09-05T00:29:35.244Z"
   },
   {
    "duration": 162,
    "start_time": "2024-09-05T00:29:35.359Z"
   },
   {
    "duration": 26,
    "start_time": "2024-09-05T00:29:35.525Z"
   },
   {
    "duration": 185,
    "start_time": "2024-09-05T00:29:35.554Z"
   },
   {
    "duration": 109,
    "start_time": "2024-09-05T00:29:35.741Z"
   },
   {
    "duration": 8,
    "start_time": "2024-09-05T00:29:35.852Z"
   },
   {
    "duration": 10,
    "start_time": "2024-09-05T00:29:35.862Z"
   },
   {
    "duration": 110,
    "start_time": "2024-09-05T00:29:35.874Z"
   },
   {
    "duration": 7,
    "start_time": "2024-09-05T00:29:35.986Z"
   },
   {
    "duration": 30,
    "start_time": "2024-09-05T00:29:35.995Z"
   },
   {
    "duration": 209,
    "start_time": "2024-09-05T00:29:36.027Z"
   },
   {
    "duration": 5,
    "start_time": "2024-09-05T00:29:36.238Z"
   },
   {
    "duration": 17,
    "start_time": "2024-09-05T00:29:36.244Z"
   },
   {
    "duration": 185,
    "start_time": "2024-09-05T00:29:36.263Z"
   },
   {
    "duration": 118,
    "start_time": "2024-09-05T00:29:36.450Z"
   },
   {
    "duration": 2542,
    "start_time": "2024-09-05T15:30:47.399Z"
   },
   {
    "duration": 38,
    "start_time": "2024-09-05T15:30:49.945Z"
   },
   {
    "duration": 37,
    "start_time": "2024-09-05T15:30:49.985Z"
   },
   {
    "duration": 14,
    "start_time": "2024-09-05T15:30:50.024Z"
   },
   {
    "duration": 12,
    "start_time": "2024-09-05T15:30:50.041Z"
   },
   {
    "duration": 7,
    "start_time": "2024-09-05T15:30:50.054Z"
   },
   {
    "duration": 482,
    "start_time": "2024-09-05T15:30:50.063Z"
   },
   {
    "duration": 111,
    "start_time": "2024-09-05T15:30:50.547Z"
   },
   {
    "duration": 150,
    "start_time": "2024-09-05T15:30:50.659Z"
   },
   {
    "duration": 20,
    "start_time": "2024-09-05T15:30:50.812Z"
   },
   {
    "duration": 195,
    "start_time": "2024-09-05T15:30:50.834Z"
   },
   {
    "duration": 162,
    "start_time": "2024-09-05T15:30:51.032Z"
   },
   {
    "duration": 9,
    "start_time": "2024-09-05T15:30:51.195Z"
   },
   {
    "duration": 9,
    "start_time": "2024-09-05T15:30:51.208Z"
   },
   {
    "duration": 109,
    "start_time": "2024-09-05T15:30:51.219Z"
   },
   {
    "duration": 6,
    "start_time": "2024-09-05T15:30:51.329Z"
   },
   {
    "duration": 16,
    "start_time": "2024-09-05T15:30:51.337Z"
   },
   {
    "duration": 217,
    "start_time": "2024-09-05T15:30:51.355Z"
   },
   {
    "duration": 4,
    "start_time": "2024-09-05T15:30:51.574Z"
   },
   {
    "duration": 16,
    "start_time": "2024-09-05T15:30:51.580Z"
   },
   {
    "duration": 188,
    "start_time": "2024-09-05T15:30:51.598Z"
   },
   {
    "duration": 147,
    "start_time": "2024-09-05T15:30:51.788Z"
   },
   {
    "duration": 10,
    "start_time": "2024-09-05T15:36:47.352Z"
   },
   {
    "duration": 278,
    "start_time": "2024-09-05T15:38:20.629Z"
   },
   {
    "duration": 10,
    "start_time": "2024-09-05T15:39:37.305Z"
   },
   {
    "duration": 14,
    "start_time": "2024-09-05T15:40:47.562Z"
   },
   {
    "duration": 17,
    "start_time": "2024-09-05T15:41:45.016Z"
   },
   {
    "duration": 171,
    "start_time": "2024-09-05T16:20:31.369Z"
   },
   {
    "duration": 2556,
    "start_time": "2024-09-05T16:20:36.516Z"
   },
   {
    "duration": 34,
    "start_time": "2024-09-05T16:20:39.074Z"
   },
   {
    "duration": 36,
    "start_time": "2024-09-05T16:20:39.110Z"
   },
   {
    "duration": 38,
    "start_time": "2024-09-05T16:20:39.149Z"
   },
   {
    "duration": 13,
    "start_time": "2024-09-05T16:20:39.188Z"
   },
   {
    "duration": 7,
    "start_time": "2024-09-05T16:20:39.202Z"
   },
   {
    "duration": 426,
    "start_time": "2024-09-05T16:20:39.211Z"
   },
   {
    "duration": 107,
    "start_time": "2024-09-05T16:20:39.639Z"
   },
   {
    "duration": 15,
    "start_time": "2024-09-05T16:20:39.749Z"
   },
   {
    "duration": 148,
    "start_time": "2024-09-05T16:20:39.768Z"
   },
   {
    "duration": 169,
    "start_time": "2024-09-05T16:20:39.917Z"
   },
   {
    "duration": 21,
    "start_time": "2024-09-05T16:20:40.088Z"
   },
   {
    "duration": 180,
    "start_time": "2024-09-05T16:20:40.110Z"
   },
   {
    "duration": 103,
    "start_time": "2024-09-05T16:20:40.291Z"
   },
   {
    "duration": 8,
    "start_time": "2024-09-05T16:20:40.396Z"
   },
   {
    "duration": 9,
    "start_time": "2024-09-05T16:20:40.406Z"
   },
   {
    "duration": 112,
    "start_time": "2024-09-05T16:20:40.416Z"
   },
   {
    "duration": 6,
    "start_time": "2024-09-05T16:20:40.529Z"
   },
   {
    "duration": 16,
    "start_time": "2024-09-05T16:20:40.537Z"
   },
   {
    "duration": 217,
    "start_time": "2024-09-05T16:20:40.554Z"
   },
   {
    "duration": 4,
    "start_time": "2024-09-05T16:20:40.773Z"
   },
   {
    "duration": 16,
    "start_time": "2024-09-05T16:20:40.779Z"
   },
   {
    "duration": 194,
    "start_time": "2024-09-05T16:20:40.797Z"
   },
   {
    "duration": 167,
    "start_time": "2024-09-05T16:20:40.993Z"
   },
   {
    "duration": 154,
    "start_time": "2024-09-05T16:23:02.899Z"
   },
   {
    "duration": 142,
    "start_time": "2024-09-05T16:23:19.963Z"
   },
   {
    "duration": 140,
    "start_time": "2024-09-05T16:23:32.454Z"
   },
   {
    "duration": 269,
    "start_time": "2024-09-05T16:24:04.742Z"
   },
   {
    "duration": 879,
    "start_time": "2024-09-05T16:27:07.591Z"
   },
   {
    "duration": 22,
    "start_time": "2024-09-05T16:27:08.472Z"
   },
   {
    "duration": 36,
    "start_time": "2024-09-05T16:27:08.496Z"
   },
   {
    "duration": 14,
    "start_time": "2024-09-05T16:27:08.533Z"
   },
   {
    "duration": 46,
    "start_time": "2024-09-05T16:27:08.550Z"
   },
   {
    "duration": 7,
    "start_time": "2024-09-05T16:27:08.597Z"
   },
   {
    "duration": 445,
    "start_time": "2024-09-05T16:27:08.606Z"
   },
   {
    "duration": 110,
    "start_time": "2024-09-05T16:27:09.053Z"
   },
   {
    "duration": 17,
    "start_time": "2024-09-05T16:27:09.164Z"
   },
   {
    "duration": 480,
    "start_time": "2024-09-05T16:27:09.182Z"
   },
   {
    "duration": 1,
    "start_time": "2024-09-05T16:27:09.664Z"
   },
   {
    "duration": 0,
    "start_time": "2024-09-05T16:27:09.666Z"
   },
   {
    "duration": 0,
    "start_time": "2024-09-05T16:27:09.667Z"
   },
   {
    "duration": 0,
    "start_time": "2024-09-05T16:27:09.669Z"
   },
   {
    "duration": 0,
    "start_time": "2024-09-05T16:27:09.671Z"
   },
   {
    "duration": 0,
    "start_time": "2024-09-05T16:27:09.672Z"
   },
   {
    "duration": 0,
    "start_time": "2024-09-05T16:27:09.687Z"
   },
   {
    "duration": 0,
    "start_time": "2024-09-05T16:27:09.688Z"
   },
   {
    "duration": 0,
    "start_time": "2024-09-05T16:27:09.689Z"
   },
   {
    "duration": 0,
    "start_time": "2024-09-05T16:27:09.690Z"
   },
   {
    "duration": 0,
    "start_time": "2024-09-05T16:27:09.691Z"
   },
   {
    "duration": 0,
    "start_time": "2024-09-05T16:27:09.692Z"
   },
   {
    "duration": 0,
    "start_time": "2024-09-05T16:27:09.693Z"
   },
   {
    "duration": 133,
    "start_time": "2024-09-05T16:28:11.963Z"
   },
   {
    "duration": 3,
    "start_time": "2024-09-05T16:28:24.973Z"
   },
   {
    "duration": 19,
    "start_time": "2024-09-05T16:28:24.978Z"
   },
   {
    "duration": 37,
    "start_time": "2024-09-05T16:28:24.998Z"
   },
   {
    "duration": 14,
    "start_time": "2024-09-05T16:28:25.037Z"
   },
   {
    "duration": 43,
    "start_time": "2024-09-05T16:28:25.053Z"
   },
   {
    "duration": 7,
    "start_time": "2024-09-05T16:28:25.098Z"
   },
   {
    "duration": 158,
    "start_time": "2024-09-05T16:28:25.106Z"
   },
   {
    "duration": 101,
    "start_time": "2024-09-05T16:28:25.266Z"
   },
   {
    "duration": 19,
    "start_time": "2024-09-05T16:28:25.370Z"
   },
   {
    "duration": 139,
    "start_time": "2024-09-05T16:28:25.390Z"
   },
   {
    "duration": 21,
    "start_time": "2024-09-05T16:28:25.531Z"
   },
   {
    "duration": 186,
    "start_time": "2024-09-05T16:28:25.554Z"
   },
   {
    "duration": 149,
    "start_time": "2024-09-05T16:28:25.741Z"
   },
   {
    "duration": 8,
    "start_time": "2024-09-05T16:28:25.892Z"
   },
   {
    "duration": 9,
    "start_time": "2024-09-05T16:28:25.902Z"
   },
   {
    "duration": 116,
    "start_time": "2024-09-05T16:28:25.913Z"
   },
   {
    "duration": 6,
    "start_time": "2024-09-05T16:28:26.031Z"
   },
   {
    "duration": 17,
    "start_time": "2024-09-05T16:28:26.038Z"
   },
   {
    "duration": 215,
    "start_time": "2024-09-05T16:28:26.056Z"
   },
   {
    "duration": 5,
    "start_time": "2024-09-05T16:28:26.273Z"
   },
   {
    "duration": 20,
    "start_time": "2024-09-05T16:28:26.280Z"
   },
   {
    "duration": 188,
    "start_time": "2024-09-05T16:28:26.302Z"
   },
   {
    "duration": 146,
    "start_time": "2024-09-05T16:28:26.491Z"
   },
   {
    "duration": 141,
    "start_time": "2024-09-05T16:30:47.834Z"
   },
   {
    "duration": 159,
    "start_time": "2024-09-05T16:32:08.934Z"
   },
   {
    "duration": 144,
    "start_time": "2024-09-05T16:32:53.825Z"
   },
   {
    "duration": 142,
    "start_time": "2024-09-05T16:33:06.505Z"
   },
   {
    "duration": 146,
    "start_time": "2024-09-05T16:33:52.599Z"
   },
   {
    "duration": 230,
    "start_time": "2024-09-05T16:34:32.125Z"
   },
   {
    "duration": 6,
    "start_time": "2024-09-05T16:37:54.428Z"
   },
   {
    "duration": 4,
    "start_time": "2024-09-05T16:37:57.281Z"
   },
   {
    "duration": 4,
    "start_time": "2024-09-05T16:38:28.151Z"
   },
   {
    "duration": 4,
    "start_time": "2024-09-05T16:38:33.790Z"
   },
   {
    "duration": 133,
    "start_time": "2024-09-05T16:40:16.927Z"
   },
   {
    "duration": 170,
    "start_time": "2024-09-05T16:40:23.434Z"
   },
   {
    "duration": 134,
    "start_time": "2024-09-05T16:41:30.369Z"
   },
   {
    "duration": 202,
    "start_time": "2024-09-05T16:41:55.013Z"
   },
   {
    "duration": 166,
    "start_time": "2024-09-05T16:42:01.327Z"
   },
   {
    "duration": 149,
    "start_time": "2024-09-05T16:43:27.292Z"
   },
   {
    "duration": 149,
    "start_time": "2024-09-05T16:43:53.794Z"
   },
   {
    "duration": 153,
    "start_time": "2024-09-05T16:44:12.883Z"
   },
   {
    "duration": 5,
    "start_time": "2024-09-05T16:45:29.648Z"
   },
   {
    "duration": 134,
    "start_time": "2024-09-05T16:45:35.379Z"
   },
   {
    "duration": 118,
    "start_time": "2024-09-05T16:45:54.949Z"
   },
   {
    "duration": 126,
    "start_time": "2024-09-05T16:46:13.332Z"
   },
   {
    "duration": 119,
    "start_time": "2024-09-05T16:46:34.265Z"
   },
   {
    "duration": 122,
    "start_time": "2024-09-05T16:46:38.910Z"
   },
   {
    "duration": 208,
    "start_time": "2024-09-05T16:47:24.798Z"
   },
   {
    "duration": 135,
    "start_time": "2024-09-05T16:47:33.818Z"
   },
   {
    "duration": 151,
    "start_time": "2024-09-05T16:48:38.877Z"
   },
   {
    "duration": 149,
    "start_time": "2024-09-05T16:48:54.493Z"
   },
   {
    "duration": 130,
    "start_time": "2024-09-05T16:50:16.314Z"
   },
   {
    "duration": 138,
    "start_time": "2024-09-05T16:50:42.466Z"
   },
   {
    "duration": 144,
    "start_time": "2024-09-05T16:52:03.894Z"
   },
   {
    "duration": 160,
    "start_time": "2024-09-05T16:52:24.023Z"
   },
   {
    "duration": 139,
    "start_time": "2024-09-05T16:52:51.288Z"
   },
   {
    "duration": 155,
    "start_time": "2024-09-06T18:38:48.285Z"
   },
   {
    "duration": 2587,
    "start_time": "2024-09-06T18:38:52.656Z"
   },
   {
    "duration": 35,
    "start_time": "2024-09-06T18:38:55.245Z"
   },
   {
    "duration": 41,
    "start_time": "2024-09-06T18:38:55.282Z"
   },
   {
    "duration": 14,
    "start_time": "2024-09-06T18:38:55.326Z"
   },
   {
    "duration": 12,
    "start_time": "2024-09-06T18:38:55.342Z"
   },
   {
    "duration": 7,
    "start_time": "2024-09-06T18:38:55.355Z"
   },
   {
    "duration": 428,
    "start_time": "2024-09-06T18:38:55.364Z"
   },
   {
    "duration": 110,
    "start_time": "2024-09-06T18:38:55.794Z"
   },
   {
    "duration": 15,
    "start_time": "2024-09-06T18:38:55.906Z"
   },
   {
    "duration": 161,
    "start_time": "2024-09-06T18:38:55.925Z"
   },
   {
    "duration": 24,
    "start_time": "2024-09-06T18:38:56.087Z"
   },
   {
    "duration": 11,
    "start_time": "2024-09-06T18:38:56.113Z"
   },
   {
    "duration": 135,
    "start_time": "2024-09-06T18:38:56.126Z"
   },
   {
    "duration": 10,
    "start_time": "2024-09-06T18:38:56.262Z"
   },
   {
    "duration": 9,
    "start_time": "2024-09-06T18:38:56.274Z"
   },
   {
    "duration": 99,
    "start_time": "2024-09-06T18:38:56.285Z"
   },
   {
    "duration": 5,
    "start_time": "2024-09-06T18:38:56.386Z"
   },
   {
    "duration": 25,
    "start_time": "2024-09-06T18:38:56.393Z"
   },
   {
    "duration": 285,
    "start_time": "2024-09-06T18:38:56.420Z"
   },
   {
    "duration": 6,
    "start_time": "2024-09-06T18:38:56.708Z"
   },
   {
    "duration": 18,
    "start_time": "2024-09-06T18:38:56.715Z"
   },
   {
    "duration": 207,
    "start_time": "2024-09-06T18:38:56.734Z"
   },
   {
    "duration": 132,
    "start_time": "2024-09-06T18:38:56.943Z"
   },
   {
    "duration": 6,
    "start_time": "2024-09-06T18:44:14.648Z"
   },
   {
    "duration": 14,
    "start_time": "2024-09-06T18:45:05.430Z"
   },
   {
    "duration": 138,
    "start_time": "2024-09-06T18:46:07.722Z"
   },
   {
    "duration": 10,
    "start_time": "2024-09-06T18:46:24.812Z"
   },
   {
    "duration": 13,
    "start_time": "2024-09-06T18:46:35.895Z"
   },
   {
    "duration": 209,
    "start_time": "2024-09-06T18:47:40.578Z"
   },
   {
    "duration": 267,
    "start_time": "2024-09-06T18:49:43.713Z"
   },
   {
    "duration": 5,
    "start_time": "2024-09-06T18:51:35.153Z"
   },
   {
    "duration": 216,
    "start_time": "2024-09-06T18:53:58.650Z"
   },
   {
    "duration": 227,
    "start_time": "2024-09-06T18:54:06.688Z"
   },
   {
    "duration": 265,
    "start_time": "2024-09-06T18:54:28.921Z"
   },
   {
    "duration": 225,
    "start_time": "2024-09-06T18:56:18.761Z"
   },
   {
    "duration": 214,
    "start_time": "2024-09-06T18:56:28.260Z"
   },
   {
    "duration": 263,
    "start_time": "2024-09-06T18:56:53.820Z"
   }
  ],
  "kernelspec": {
   "display_name": "Python 3 (ipykernel)",
   "language": "python",
   "name": "python3"
  },
  "language_info": {
   "codemirror_mode": {
    "name": "ipython",
    "version": 3
   },
   "file_extension": ".py",
   "mimetype": "text/x-python",
   "name": "python",
   "nbconvert_exporter": "python",
   "pygments_lexer": "ipython3",
   "version": "3.9.19"
  },
  "toc": {
   "base_numbering": 1,
   "nav_menu": {},
   "number_sections": true,
   "sideBar": true,
   "skip_h1_title": true,
   "title_cell": "Table of Contents",
   "title_sidebar": "Contents",
   "toc_cell": false,
   "toc_position": {},
   "toc_section_display": true,
   "toc_window_display": false
  }
 },
 "nbformat": 4,
 "nbformat_minor": 2
}
